{
 "cells": [
  {
   "cell_type": "code",
   "execution_count": 1,
   "metadata": {},
   "outputs": [],
   "source": [
    "import gzip\n",
    "import xml.etree.ElementTree as ET\n",
    "import os\n",
    "\n"
   ]
  },
  {
   "cell_type": "code",
   "execution_count": null,
   "metadata": {},
   "outputs": [],
   "source": [
    "def read_xml_gz_file(xml_gz_file):\n",
    "    \"\"\"Read the contents of an XML file compressed in gzip format.\"\"\"\n",
    "    try:\n",
    "        with gzip.open(xml_gz_file, 'rt', encoding='utf-8') as file:\n",
    "            tree = ET.parse(file)\n",
    "            root = tree.getroot()\n",
    "            return root\n",
    "    except Exception as e:\n",
    "        print(f\"Error reading XML file {xml_gz_file}: {e}\")\n",
    "        return None\n",
    "\n",
    "# Example usage\n",
    "xml_gz_file_path = 'path/to/your/file.xml.gz'\n",
    "xml_root = read_xml_gz_file(xml_gz_file_path)\n",
    "\n",
    "if xml_root is not None:\n",
    "    # Now you can work with the XML tree (xml_root) as needed\n",
    "    print(\"XML file successfully loaded.\")\n",
    "    # Example: Print the XML structure\n",
    "    print(ET.tostring(xml_root, encoding='utf-8').decode('utf-8'))\n",
    "else:\n",
    "    print(\"Failed to load XML file.\")\n"
   ]
  }
 ],
 "metadata": {
  "kernelspec": {
   "display_name": "ada",
   "language": "python",
   "name": "python3"
  },
  "language_info": {
   "codemirror_mode": {
    "name": "ipython",
    "version": 3
   },
   "file_extension": ".py",
   "mimetype": "text/x-python",
   "name": "python",
   "nbconvert_exporter": "python",
   "pygments_lexer": "ipython3",
   "version": "3.9.18"
  }
 },
 "nbformat": 4,
 "nbformat_minor": 2
}
