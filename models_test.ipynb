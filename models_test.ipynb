{
 "cells": [
  {
   "cell_type": "code",
   "execution_count": 2,
   "metadata": {},
   "outputs": [],
   "source": [
    "import pandas as pd\n",
    "import matplotlib.pyplot as plt\n",
    "import numpy as np\n",
    "import json\n",
    "import ast\n",
    "from sklearn.ensemble import RandomForestRegressor, GradientBoostingRegressor\n",
    "from sklearn.model_selection import cross_validate\n",
    "from sklearn.metrics import  r2_score, mean_absolute_error\n",
    "import warnings\n",
    "import statsmodels.api as sm\n",
    "import plotly.graph_objects as go\n",
    "from plotly.subplots import make_subplots\n",
    "import plotly.express as px\n",
    "warnings.filterwarnings(\"ignore\", category=Warning)  # Suppress all warnings"
   ]
  },
  {
   "cell_type": "code",
   "execution_count": 4,
   "metadata": {},
   "outputs": [
    {
     "data": {
      "text/plain": [
       "(9500, 7)"
      ]
     },
     "execution_count": 4,
     "metadata": {},
     "output_type": "execute_result"
    }
   ],
   "source": [
    "df = pd.read_csv('data/DeBERTa-v3/complete_De-BERTa_plots.csv')\n",
    "df.shape"
   ]
  },
  {
   "cell_type": "code",
   "execution_count": 3,
   "metadata": {},
   "outputs": [],
   "source": [
    "metadata_df = pd.read_csv('movies_metadata_ratings.csv')\n",
    "genres_df = metadata_df[['movie_genres','wiki_movie_id']].copy()"
   ]
  },
  {
   "cell_type": "code",
   "execution_count": 4,
   "metadata": {},
   "outputs": [
    {
     "data": {
      "text/plain": [
       "(20216, 2)"
      ]
     },
     "execution_count": 4,
     "metadata": {},
     "output_type": "execute_result"
    }
   ],
   "source": [
    "def transform_genres_string(genres_str):\n",
    "    try:\n",
    "        genres_dict = json.loads(genres_str.replace(\"'\", \"\\\"\"))  # Replace single quotes with double quotes\n",
    "        return genres_dict\n",
    "    except json.JSONDecodeError:\n",
    "        return {}\n",
    "genres_df['movie_genres'] = genres_df['movie_genres'].apply(transform_genres_string)\n",
    "genres_df.shape"
   ]
  },
  {
   "cell_type": "code",
   "execution_count": 5,
   "metadata": {},
   "outputs": [],
   "source": [
    "\n",
    "#for filtering out genres with less than threshold movies\n",
    "def prep_data(threshold, genres_df, show_plot=False):    \n",
    "    genre_counts = genres_df['movie_genres'].apply(lambda x: list(x.values())).explode().value_counts()\n",
    "    genre_counts = genre_counts[genre_counts > threshold]\n",
    "    genre_counts = genre_counts.sort_values(ascending=True)\n",
    "    top_genres_value_list = genre_counts.index.tolist()\n",
    "    if show_plot:\n",
    "        genre_counts.plot(kind='barh')\n",
    "        plt.xlabel('Counts')\n",
    "        plt.ylabel('Genres')\n",
    "        plt.title('Genre Counts')\n",
    "        plt.show()\n",
    "    return top_genres_value_list, genres_df\n",
    "\n",
    "#doing linear regression on genres\n",
    "def linear_regression(X_column_names,y_column_names, df):\n",
    "    df_train = df.sample(frac=0.85, random_state=1)\n",
    "    df_test = df.drop(df_train.index)\n",
    "\n",
    "    X = sm.add_constant(df_train[X_column_names])\n",
    "    model = sm.OLS(df_train[y_column_names], X).fit()\n",
    "\n",
    "    X_test = sm.add_constant(df_test[X_column_names])\n",
    "    preds = model.predict(X_test)\n",
    "\n",
    "    mae = mean_absolute_error(df_test[y_column_names], preds)\n",
    "    return model, mae\n",
    "\n",
    "#getting genrres in one hot encoding\n",
    "def get_genre_dummies(metadata_df, threshold=100):\n",
    "    genres_df = metadata_df[['movie_genres']].copy()\n",
    "    genres_df['movie_genres'] = genres_df['movie_genres'].apply(transform_genres_string)\n",
    "    \n",
    "    top_genres_value_list, genres_df = prep_data(threshold, genres_df)\n",
    "\n",
    "    genres_df = genres_df.drop(genres_df[genres_df['movie_genres'].apply(lambda x: not any(genre in x.values() for genre in top_genres_value_list))].index)\n",
    "    dummy_variables = pd.get_dummies(genres_df['movie_genres'].apply(lambda x: list(x.values())).explode())\n",
    "    dummy_variables = dummy_variables[top_genres_value_list]  # Filter dummy variables for top genres\n",
    "    dummy_variables = dummy_variables.groupby(dummy_variables.index).sum()  # Group by movie ID\n",
    "    dummy_variables = dummy_variables.astype(int)\n",
    "    return dummy_variables\n",
    "#used for quick testing, given full dataframe with needed inxes filterred out and genre information present, \n",
    "# get linear regression model and mae\n",
    "\n",
    "def full_genre_process(metadata_df, threshold=100,  list_of_other_cols=['averageRating']):\n",
    "    dummy_variables = get_genre_dummies(metadata_df, threshold)\n",
    "    genres_df = dummy_variables.merge(metadata_df[list_of_other_cols], left_index=True, right_index= True, how='left').copy()\n",
    "\n",
    "    X_column_names = [col for col in genres_df.columns if col != 'averageRating' ]\n",
    "    y_column_names = ['averageRating']\n",
    "    \n",
    "    return linear_regression(X_column_names,y_column_names, genres_df)\n",
    "\n"
   ]
  },
  {
   "cell_type": "code",
   "execution_count": 6,
   "metadata": {},
   "outputs": [
    {
     "name": "stdout",
     "output_type": "stream",
     "text": [
      "Mean absolute error of linear regression on genres is  0.725609751540359\n"
     ]
    }
   ],
   "source": [
    "model, mae = full_genre_process(metadata_df, threshold=100,  list_of_other_cols=['averageRating'])\n",
    "print(\"Mean absolute error of linear regression on genres is \",mae)\n"
   ]
  },
  {
   "cell_type": "markdown",
   "metadata": {},
   "source": [
    "# Predicting Movie rating soleley on genre information\n",
    "\n",
    "Running linear regression with a 0.8/0.2 or 0.85/0.15 train/test split, we get a mean absolute error of 0.72 for a threshold of 750 (meaning genres with less than 750 representatives aaren't represented), we coul use a stricter or more loosse threshold, the result doesn't change all that much. It would be interresting to if the time when the film went out plays a role in the films' sucess."
   ]
  },
  {
   "cell_type": "code",
   "execution_count": 7,
   "metadata": {},
   "outputs": [],
   "source": [
    "def show_model(model,top_to_show=5):\n",
    "    SHOW_TOP_COEF = top_to_show\n",
    "    model_df = pd.DataFrame(model.summary().tables[1])\n",
    "\n",
    "    model_df.columns = model_df.iloc[0]\n",
    "    model_df.columns = ['Genre', 'Coefficient', 'Standard Error', 't-value', 'p-value', '95% CI Lower', '95% CI Upper']\n",
    "    model_df = model_df[1:].copy()\n",
    "    for col in model_df.columns:\n",
    "        model_df[col] = model_df[col].apply(lambda x: x.data)\n",
    "    for col in model_df.columns[1:]:\n",
    "        model_df[col] = model_df[col].astype(float)\n",
    "    coef = model_df['Coefficient'].iloc[0]\n",
    "    model_df = model_df[1:].copy()\n",
    "    filtered_model_df = model_df[model_df['p-value'] <= 0.05]\n",
    "\n",
    "    top = model_df.nlargest(SHOW_TOP_COEF, 'Coefficient')\n",
    "    bottom = model_df.nsmallest(SHOW_TOP_COEF, 'Coefficient')\n",
    "    filtered_model_df = pd.concat([top, bottom])\n",
    "\n",
    "    # Create a Plotly figure with custom error bars\n",
    "    fig = go.Figure()\n",
    "\n",
    "    for index, row in filtered_model_df.iterrows():\n",
    "        genre = row['Genre']\n",
    "        coef = row['Coefficient'] \n",
    "        std_error = row['Standard Error']\n",
    "        ci_lower = row['95% CI Lower']\n",
    "        ci_upper = row['95% CI Upper']\n",
    "        \n",
    "        # Add a bar trace with custom error bars\n",
    "        fig.add_trace(go.Bar(\n",
    "            x=[coef],\n",
    "            y=[genre],\n",
    "            orientation='h',\n",
    "            error_x=dict(\n",
    "                type='data',\n",
    "                symmetric=False,\n",
    "                array=[ci_upper],\n",
    "                arrayminus=[ci_lower]\n",
    "            ),\n",
    "            name=genre\n",
    "        ))\n",
    "\n",
    "    # Customize the layout\n",
    "    fig.update_layout(\n",
    "        yaxis_title='Label',\n",
    "        xaxis_title='Coefficient Value',\n",
    "        title='Coefficients with Confidence Intervals (95%)',\n",
    "        barmode='group'  # Use 'group' to display multiple bars per genre\n",
    ")\n",
    "\n",
    "# Show the plot\n",
    "    fig.show()"
   ]
  },
  {
   "cell_type": "code",
   "execution_count": 8,
   "metadata": {},
   "outputs": [
    {
     "data": {
      "application/vnd.plotly.v1+json": {
       "config": {
        "plotlyServerURL": "https://plot.ly"
       },
       "data": [
        {
         "error_x": {
          "array": [
           1.149
          ],
          "arrayminus": [
           0.88
          ],
          "symmetric": false,
          "type": "data"
         },
         "name": "Documentary",
         "orientation": "h",
         "type": "bar",
         "x": [
          1.0144
         ],
         "y": [
          "Documentary"
         ]
        },
        {
         "error_x": {
          "array": [
           0.766
          ],
          "arrayminus": [
           0.467
          ],
          "symmetric": false,
          "type": "data"
         },
         "name": "Art film",
         "orientation": "h",
         "type": "bar",
         "x": [
          0.6168
         ],
         "y": [
          "Art film"
         ]
        },
        {
         "error_x": {
          "array": [
           0.672
          ],
          "arrayminus": [
           0.412
          ],
          "symmetric": false,
          "type": "data"
         },
         "name": "Animation",
         "orientation": "h",
         "type": "bar",
         "x": [
          0.5422
         ],
         "y": [
          "Animation"
         ]
        },
        {
         "error_x": {
          "array": [
           0.447
          ],
          "arrayminus": [
           0.374
          ],
          "symmetric": false,
          "type": "data"
         },
         "name": "Drama",
         "orientation": "h",
         "type": "bar",
         "x": [
          0.4107
         ],
         "y": [
          "Drama"
         ]
        },
        {
         "error_x": {
          "array": [
           0.483
          ],
          "arrayminus": [
           0.303
          ],
          "symmetric": false,
          "type": "data"
         },
         "name": "Japanese Movies",
         "orientation": "h",
         "type": "bar",
         "x": [
          0.3928
         ],
         "y": [
          "Japanese Movies"
         ]
        },
        {
         "error_x": {
          "array": [
           -0.66
          ],
          "arrayminus": [
           -0.96
          ],
          "symmetric": false,
          "type": "data"
         },
         "name": "B-movie",
         "orientation": "h",
         "type": "bar",
         "x": [
          -0.8099
         ],
         "y": [
          "B-movie"
         ]
        },
        {
         "error_x": {
          "array": [
           -0.436
          ],
          "arrayminus": [
           -0.827
          ],
          "symmetric": false,
          "type": "data"
         },
         "name": "Erotic thriller",
         "orientation": "h",
         "type": "bar",
         "x": [
          -0.6314
         ],
         "y": [
          "Erotic thriller"
         ]
        },
        {
         "error_x": {
          "array": [
           -0.453
          ],
          "arrayminus": [
           -0.578
          ],
          "symmetric": false,
          "type": "data"
         },
         "name": "Horror",
         "orientation": "h",
         "type": "bar",
         "x": [
          -0.5153
         ],
         "y": [
          "Horror"
         ]
        },
        {
         "error_x": {
          "array": [
           -0.111
          ],
          "arrayminus": [
           -0.505
          ],
          "symmetric": false,
          "type": "data"
         },
         "name": "Erotica",
         "orientation": "h",
         "type": "bar",
         "x": [
          -0.3082
         ],
         "y": [
          "Erotica"
         ]
        },
        {
         "error_x": {
          "array": [
           -0.146
          ],
          "arrayminus": [
           -0.341
          ],
          "symmetric": false,
          "type": "data"
         },
         "name": "Teen",
         "orientation": "h",
         "type": "bar",
         "x": [
          -0.2432
         ],
         "y": [
          "Teen"
         ]
        }
       ],
       "layout": {
        "barmode": "group",
        "template": {
         "data": {
          "bar": [
           {
            "error_x": {
             "color": "#2a3f5f"
            },
            "error_y": {
             "color": "#2a3f5f"
            },
            "marker": {
             "line": {
              "color": "#E5ECF6",
              "width": 0.5
             },
             "pattern": {
              "fillmode": "overlay",
              "size": 10,
              "solidity": 0.2
             }
            },
            "type": "bar"
           }
          ],
          "barpolar": [
           {
            "marker": {
             "line": {
              "color": "#E5ECF6",
              "width": 0.5
             },
             "pattern": {
              "fillmode": "overlay",
              "size": 10,
              "solidity": 0.2
             }
            },
            "type": "barpolar"
           }
          ],
          "carpet": [
           {
            "aaxis": {
             "endlinecolor": "#2a3f5f",
             "gridcolor": "white",
             "linecolor": "white",
             "minorgridcolor": "white",
             "startlinecolor": "#2a3f5f"
            },
            "baxis": {
             "endlinecolor": "#2a3f5f",
             "gridcolor": "white",
             "linecolor": "white",
             "minorgridcolor": "white",
             "startlinecolor": "#2a3f5f"
            },
            "type": "carpet"
           }
          ],
          "choropleth": [
           {
            "colorbar": {
             "outlinewidth": 0,
             "ticks": ""
            },
            "type": "choropleth"
           }
          ],
          "contour": [
           {
            "colorbar": {
             "outlinewidth": 0,
             "ticks": ""
            },
            "colorscale": [
             [
              0,
              "#0d0887"
             ],
             [
              0.1111111111111111,
              "#46039f"
             ],
             [
              0.2222222222222222,
              "#7201a8"
             ],
             [
              0.3333333333333333,
              "#9c179e"
             ],
             [
              0.4444444444444444,
              "#bd3786"
             ],
             [
              0.5555555555555556,
              "#d8576b"
             ],
             [
              0.6666666666666666,
              "#ed7953"
             ],
             [
              0.7777777777777778,
              "#fb9f3a"
             ],
             [
              0.8888888888888888,
              "#fdca26"
             ],
             [
              1,
              "#f0f921"
             ]
            ],
            "type": "contour"
           }
          ],
          "contourcarpet": [
           {
            "colorbar": {
             "outlinewidth": 0,
             "ticks": ""
            },
            "type": "contourcarpet"
           }
          ],
          "heatmap": [
           {
            "colorbar": {
             "outlinewidth": 0,
             "ticks": ""
            },
            "colorscale": [
             [
              0,
              "#0d0887"
             ],
             [
              0.1111111111111111,
              "#46039f"
             ],
             [
              0.2222222222222222,
              "#7201a8"
             ],
             [
              0.3333333333333333,
              "#9c179e"
             ],
             [
              0.4444444444444444,
              "#bd3786"
             ],
             [
              0.5555555555555556,
              "#d8576b"
             ],
             [
              0.6666666666666666,
              "#ed7953"
             ],
             [
              0.7777777777777778,
              "#fb9f3a"
             ],
             [
              0.8888888888888888,
              "#fdca26"
             ],
             [
              1,
              "#f0f921"
             ]
            ],
            "type": "heatmap"
           }
          ],
          "heatmapgl": [
           {
            "colorbar": {
             "outlinewidth": 0,
             "ticks": ""
            },
            "colorscale": [
             [
              0,
              "#0d0887"
             ],
             [
              0.1111111111111111,
              "#46039f"
             ],
             [
              0.2222222222222222,
              "#7201a8"
             ],
             [
              0.3333333333333333,
              "#9c179e"
             ],
             [
              0.4444444444444444,
              "#bd3786"
             ],
             [
              0.5555555555555556,
              "#d8576b"
             ],
             [
              0.6666666666666666,
              "#ed7953"
             ],
             [
              0.7777777777777778,
              "#fb9f3a"
             ],
             [
              0.8888888888888888,
              "#fdca26"
             ],
             [
              1,
              "#f0f921"
             ]
            ],
            "type": "heatmapgl"
           }
          ],
          "histogram": [
           {
            "marker": {
             "pattern": {
              "fillmode": "overlay",
              "size": 10,
              "solidity": 0.2
             }
            },
            "type": "histogram"
           }
          ],
          "histogram2d": [
           {
            "colorbar": {
             "outlinewidth": 0,
             "ticks": ""
            },
            "colorscale": [
             [
              0,
              "#0d0887"
             ],
             [
              0.1111111111111111,
              "#46039f"
             ],
             [
              0.2222222222222222,
              "#7201a8"
             ],
             [
              0.3333333333333333,
              "#9c179e"
             ],
             [
              0.4444444444444444,
              "#bd3786"
             ],
             [
              0.5555555555555556,
              "#d8576b"
             ],
             [
              0.6666666666666666,
              "#ed7953"
             ],
             [
              0.7777777777777778,
              "#fb9f3a"
             ],
             [
              0.8888888888888888,
              "#fdca26"
             ],
             [
              1,
              "#f0f921"
             ]
            ],
            "type": "histogram2d"
           }
          ],
          "histogram2dcontour": [
           {
            "colorbar": {
             "outlinewidth": 0,
             "ticks": ""
            },
            "colorscale": [
             [
              0,
              "#0d0887"
             ],
             [
              0.1111111111111111,
              "#46039f"
             ],
             [
              0.2222222222222222,
              "#7201a8"
             ],
             [
              0.3333333333333333,
              "#9c179e"
             ],
             [
              0.4444444444444444,
              "#bd3786"
             ],
             [
              0.5555555555555556,
              "#d8576b"
             ],
             [
              0.6666666666666666,
              "#ed7953"
             ],
             [
              0.7777777777777778,
              "#fb9f3a"
             ],
             [
              0.8888888888888888,
              "#fdca26"
             ],
             [
              1,
              "#f0f921"
             ]
            ],
            "type": "histogram2dcontour"
           }
          ],
          "mesh3d": [
           {
            "colorbar": {
             "outlinewidth": 0,
             "ticks": ""
            },
            "type": "mesh3d"
           }
          ],
          "parcoords": [
           {
            "line": {
             "colorbar": {
              "outlinewidth": 0,
              "ticks": ""
             }
            },
            "type": "parcoords"
           }
          ],
          "pie": [
           {
            "automargin": true,
            "type": "pie"
           }
          ],
          "scatter": [
           {
            "fillpattern": {
             "fillmode": "overlay",
             "size": 10,
             "solidity": 0.2
            },
            "type": "scatter"
           }
          ],
          "scatter3d": [
           {
            "line": {
             "colorbar": {
              "outlinewidth": 0,
              "ticks": ""
             }
            },
            "marker": {
             "colorbar": {
              "outlinewidth": 0,
              "ticks": ""
             }
            },
            "type": "scatter3d"
           }
          ],
          "scattercarpet": [
           {
            "marker": {
             "colorbar": {
              "outlinewidth": 0,
              "ticks": ""
             }
            },
            "type": "scattercarpet"
           }
          ],
          "scattergeo": [
           {
            "marker": {
             "colorbar": {
              "outlinewidth": 0,
              "ticks": ""
             }
            },
            "type": "scattergeo"
           }
          ],
          "scattergl": [
           {
            "marker": {
             "colorbar": {
              "outlinewidth": 0,
              "ticks": ""
             }
            },
            "type": "scattergl"
           }
          ],
          "scattermapbox": [
           {
            "marker": {
             "colorbar": {
              "outlinewidth": 0,
              "ticks": ""
             }
            },
            "type": "scattermapbox"
           }
          ],
          "scatterpolar": [
           {
            "marker": {
             "colorbar": {
              "outlinewidth": 0,
              "ticks": ""
             }
            },
            "type": "scatterpolar"
           }
          ],
          "scatterpolargl": [
           {
            "marker": {
             "colorbar": {
              "outlinewidth": 0,
              "ticks": ""
             }
            },
            "type": "scatterpolargl"
           }
          ],
          "scatterternary": [
           {
            "marker": {
             "colorbar": {
              "outlinewidth": 0,
              "ticks": ""
             }
            },
            "type": "scatterternary"
           }
          ],
          "surface": [
           {
            "colorbar": {
             "outlinewidth": 0,
             "ticks": ""
            },
            "colorscale": [
             [
              0,
              "#0d0887"
             ],
             [
              0.1111111111111111,
              "#46039f"
             ],
             [
              0.2222222222222222,
              "#7201a8"
             ],
             [
              0.3333333333333333,
              "#9c179e"
             ],
             [
              0.4444444444444444,
              "#bd3786"
             ],
             [
              0.5555555555555556,
              "#d8576b"
             ],
             [
              0.6666666666666666,
              "#ed7953"
             ],
             [
              0.7777777777777778,
              "#fb9f3a"
             ],
             [
              0.8888888888888888,
              "#fdca26"
             ],
             [
              1,
              "#f0f921"
             ]
            ],
            "type": "surface"
           }
          ],
          "table": [
           {
            "cells": {
             "fill": {
              "color": "#EBF0F8"
             },
             "line": {
              "color": "white"
             }
            },
            "header": {
             "fill": {
              "color": "#C8D4E3"
             },
             "line": {
              "color": "white"
             }
            },
            "type": "table"
           }
          ]
         },
         "layout": {
          "annotationdefaults": {
           "arrowcolor": "#2a3f5f",
           "arrowhead": 0,
           "arrowwidth": 1
          },
          "autotypenumbers": "strict",
          "coloraxis": {
           "colorbar": {
            "outlinewidth": 0,
            "ticks": ""
           }
          },
          "colorscale": {
           "diverging": [
            [
             0,
             "#8e0152"
            ],
            [
             0.1,
             "#c51b7d"
            ],
            [
             0.2,
             "#de77ae"
            ],
            [
             0.3,
             "#f1b6da"
            ],
            [
             0.4,
             "#fde0ef"
            ],
            [
             0.5,
             "#f7f7f7"
            ],
            [
             0.6,
             "#e6f5d0"
            ],
            [
             0.7,
             "#b8e186"
            ],
            [
             0.8,
             "#7fbc41"
            ],
            [
             0.9,
             "#4d9221"
            ],
            [
             1,
             "#276419"
            ]
           ],
           "sequential": [
            [
             0,
             "#0d0887"
            ],
            [
             0.1111111111111111,
             "#46039f"
            ],
            [
             0.2222222222222222,
             "#7201a8"
            ],
            [
             0.3333333333333333,
             "#9c179e"
            ],
            [
             0.4444444444444444,
             "#bd3786"
            ],
            [
             0.5555555555555556,
             "#d8576b"
            ],
            [
             0.6666666666666666,
             "#ed7953"
            ],
            [
             0.7777777777777778,
             "#fb9f3a"
            ],
            [
             0.8888888888888888,
             "#fdca26"
            ],
            [
             1,
             "#f0f921"
            ]
           ],
           "sequentialminus": [
            [
             0,
             "#0d0887"
            ],
            [
             0.1111111111111111,
             "#46039f"
            ],
            [
             0.2222222222222222,
             "#7201a8"
            ],
            [
             0.3333333333333333,
             "#9c179e"
            ],
            [
             0.4444444444444444,
             "#bd3786"
            ],
            [
             0.5555555555555556,
             "#d8576b"
            ],
            [
             0.6666666666666666,
             "#ed7953"
            ],
            [
             0.7777777777777778,
             "#fb9f3a"
            ],
            [
             0.8888888888888888,
             "#fdca26"
            ],
            [
             1,
             "#f0f921"
            ]
           ]
          },
          "colorway": [
           "#636efa",
           "#EF553B",
           "#00cc96",
           "#ab63fa",
           "#FFA15A",
           "#19d3f3",
           "#FF6692",
           "#B6E880",
           "#FF97FF",
           "#FECB52"
          ],
          "font": {
           "color": "#2a3f5f"
          },
          "geo": {
           "bgcolor": "white",
           "lakecolor": "white",
           "landcolor": "#E5ECF6",
           "showlakes": true,
           "showland": true,
           "subunitcolor": "white"
          },
          "hoverlabel": {
           "align": "left"
          },
          "hovermode": "closest",
          "mapbox": {
           "style": "light"
          },
          "paper_bgcolor": "white",
          "plot_bgcolor": "#E5ECF6",
          "polar": {
           "angularaxis": {
            "gridcolor": "white",
            "linecolor": "white",
            "ticks": ""
           },
           "bgcolor": "#E5ECF6",
           "radialaxis": {
            "gridcolor": "white",
            "linecolor": "white",
            "ticks": ""
           }
          },
          "scene": {
           "xaxis": {
            "backgroundcolor": "#E5ECF6",
            "gridcolor": "white",
            "gridwidth": 2,
            "linecolor": "white",
            "showbackground": true,
            "ticks": "",
            "zerolinecolor": "white"
           },
           "yaxis": {
            "backgroundcolor": "#E5ECF6",
            "gridcolor": "white",
            "gridwidth": 2,
            "linecolor": "white",
            "showbackground": true,
            "ticks": "",
            "zerolinecolor": "white"
           },
           "zaxis": {
            "backgroundcolor": "#E5ECF6",
            "gridcolor": "white",
            "gridwidth": 2,
            "linecolor": "white",
            "showbackground": true,
            "ticks": "",
            "zerolinecolor": "white"
           }
          },
          "shapedefaults": {
           "line": {
            "color": "#2a3f5f"
           }
          },
          "ternary": {
           "aaxis": {
            "gridcolor": "white",
            "linecolor": "white",
            "ticks": ""
           },
           "baxis": {
            "gridcolor": "white",
            "linecolor": "white",
            "ticks": ""
           },
           "bgcolor": "#E5ECF6",
           "caxis": {
            "gridcolor": "white",
            "linecolor": "white",
            "ticks": ""
           }
          },
          "title": {
           "x": 0.05
          },
          "xaxis": {
           "automargin": true,
           "gridcolor": "white",
           "linecolor": "white",
           "ticks": "",
           "title": {
            "standoff": 15
           },
           "zerolinecolor": "white",
           "zerolinewidth": 2
          },
          "yaxis": {
           "automargin": true,
           "gridcolor": "white",
           "linecolor": "white",
           "ticks": "",
           "title": {
            "standoff": 15
           },
           "zerolinecolor": "white",
           "zerolinewidth": 2
          }
         }
        },
        "title": {
         "text": "Coefficients with Confidence Intervals (95%)"
        },
        "xaxis": {
         "title": {
          "text": "Coefficient Value"
         }
        },
        "yaxis": {
         "title": {
          "text": "Label"
         }
        }
       }
      }
     },
     "metadata": {},
     "output_type": "display_data"
    }
   ],
   "source": [
    "show_model(model)"
   ]
  },
  {
   "cell_type": "markdown",
   "metadata": {},
   "source": [
    "How certain can we be of our guess, when predicting on genres? Data shows, that it doesn't purely depend on the genre in question (cf model results and p-values of different coefficients, represented on this graph) but also on the year in question. Running linear regression on data grouped by yars, we can see a steady risse in error, indicating more unceartainty present in recent years. A logical observation would be to account for more recent films in our data in addition to older films haven gone through the proof of time.\n",
    "\n",
    "or someething like:  as we can see, the uncertainty grows with the years. First of all, we have to remember that our data has more releses closer to the present. Logically, the films that \"stood the test of time\" and found their way into the dataset are more likely to be of better quality, since they have not been forgotten, while the modern creations find their way into lists without any paticular trrouble."
   ]
  },
  {
   "cell_type": "markdown",
   "metadata": {},
   "source": [
    "# Looking at errors when training and testing on the same year"
   ]
  },
  {
   "cell_type": "code",
   "execution_count": 9,
   "metadata": {},
   "outputs": [
    {
     "data": {
      "application/vnd.plotly.v1+json": {
       "config": {
        "plotlyServerURL": "https://plot.ly"
       },
       "data": [
        {
         "mode": "lines+markers",
         "type": "scatter",
         "x": [
          1930,
          1935,
          1940,
          1945,
          1950,
          1955,
          1960,
          1965,
          1970,
          1975,
          1980,
          1985,
          1990,
          1995,
          2000,
          2005,
          2010,
          2015
         ],
         "y": [
          0.48101897306620744,
          0.47503602180006044,
          0.4955456066755633,
          0.48816382544681175,
          0.4319645143882122,
          0.5770067791774816,
          0.6660674477393685,
          0.6437925109979952,
          0.6515045927829094,
          0.7907100911334409,
          0.7253791575541616,
          0.7084518103805186,
          0.8000559010172933,
          0.7551333369107879,
          0.7264306247717136,
          0.8829743400677537,
          0.7782676153287246,
          0.8402269292592066
         ]
        }
       ],
       "layout": {
        "template": {
         "data": {
          "bar": [
           {
            "error_x": {
             "color": "#2a3f5f"
            },
            "error_y": {
             "color": "#2a3f5f"
            },
            "marker": {
             "line": {
              "color": "#E5ECF6",
              "width": 0.5
             },
             "pattern": {
              "fillmode": "overlay",
              "size": 10,
              "solidity": 0.2
             }
            },
            "type": "bar"
           }
          ],
          "barpolar": [
           {
            "marker": {
             "line": {
              "color": "#E5ECF6",
              "width": 0.5
             },
             "pattern": {
              "fillmode": "overlay",
              "size": 10,
              "solidity": 0.2
             }
            },
            "type": "barpolar"
           }
          ],
          "carpet": [
           {
            "aaxis": {
             "endlinecolor": "#2a3f5f",
             "gridcolor": "white",
             "linecolor": "white",
             "minorgridcolor": "white",
             "startlinecolor": "#2a3f5f"
            },
            "baxis": {
             "endlinecolor": "#2a3f5f",
             "gridcolor": "white",
             "linecolor": "white",
             "minorgridcolor": "white",
             "startlinecolor": "#2a3f5f"
            },
            "type": "carpet"
           }
          ],
          "choropleth": [
           {
            "colorbar": {
             "outlinewidth": 0,
             "ticks": ""
            },
            "type": "choropleth"
           }
          ],
          "contour": [
           {
            "colorbar": {
             "outlinewidth": 0,
             "ticks": ""
            },
            "colorscale": [
             [
              0,
              "#0d0887"
             ],
             [
              0.1111111111111111,
              "#46039f"
             ],
             [
              0.2222222222222222,
              "#7201a8"
             ],
             [
              0.3333333333333333,
              "#9c179e"
             ],
             [
              0.4444444444444444,
              "#bd3786"
             ],
             [
              0.5555555555555556,
              "#d8576b"
             ],
             [
              0.6666666666666666,
              "#ed7953"
             ],
             [
              0.7777777777777778,
              "#fb9f3a"
             ],
             [
              0.8888888888888888,
              "#fdca26"
             ],
             [
              1,
              "#f0f921"
             ]
            ],
            "type": "contour"
           }
          ],
          "contourcarpet": [
           {
            "colorbar": {
             "outlinewidth": 0,
             "ticks": ""
            },
            "type": "contourcarpet"
           }
          ],
          "heatmap": [
           {
            "colorbar": {
             "outlinewidth": 0,
             "ticks": ""
            },
            "colorscale": [
             [
              0,
              "#0d0887"
             ],
             [
              0.1111111111111111,
              "#46039f"
             ],
             [
              0.2222222222222222,
              "#7201a8"
             ],
             [
              0.3333333333333333,
              "#9c179e"
             ],
             [
              0.4444444444444444,
              "#bd3786"
             ],
             [
              0.5555555555555556,
              "#d8576b"
             ],
             [
              0.6666666666666666,
              "#ed7953"
             ],
             [
              0.7777777777777778,
              "#fb9f3a"
             ],
             [
              0.8888888888888888,
              "#fdca26"
             ],
             [
              1,
              "#f0f921"
             ]
            ],
            "type": "heatmap"
           }
          ],
          "heatmapgl": [
           {
            "colorbar": {
             "outlinewidth": 0,
             "ticks": ""
            },
            "colorscale": [
             [
              0,
              "#0d0887"
             ],
             [
              0.1111111111111111,
              "#46039f"
             ],
             [
              0.2222222222222222,
              "#7201a8"
             ],
             [
              0.3333333333333333,
              "#9c179e"
             ],
             [
              0.4444444444444444,
              "#bd3786"
             ],
             [
              0.5555555555555556,
              "#d8576b"
             ],
             [
              0.6666666666666666,
              "#ed7953"
             ],
             [
              0.7777777777777778,
              "#fb9f3a"
             ],
             [
              0.8888888888888888,
              "#fdca26"
             ],
             [
              1,
              "#f0f921"
             ]
            ],
            "type": "heatmapgl"
           }
          ],
          "histogram": [
           {
            "marker": {
             "pattern": {
              "fillmode": "overlay",
              "size": 10,
              "solidity": 0.2
             }
            },
            "type": "histogram"
           }
          ],
          "histogram2d": [
           {
            "colorbar": {
             "outlinewidth": 0,
             "ticks": ""
            },
            "colorscale": [
             [
              0,
              "#0d0887"
             ],
             [
              0.1111111111111111,
              "#46039f"
             ],
             [
              0.2222222222222222,
              "#7201a8"
             ],
             [
              0.3333333333333333,
              "#9c179e"
             ],
             [
              0.4444444444444444,
              "#bd3786"
             ],
             [
              0.5555555555555556,
              "#d8576b"
             ],
             [
              0.6666666666666666,
              "#ed7953"
             ],
             [
              0.7777777777777778,
              "#fb9f3a"
             ],
             [
              0.8888888888888888,
              "#fdca26"
             ],
             [
              1,
              "#f0f921"
             ]
            ],
            "type": "histogram2d"
           }
          ],
          "histogram2dcontour": [
           {
            "colorbar": {
             "outlinewidth": 0,
             "ticks": ""
            },
            "colorscale": [
             [
              0,
              "#0d0887"
             ],
             [
              0.1111111111111111,
              "#46039f"
             ],
             [
              0.2222222222222222,
              "#7201a8"
             ],
             [
              0.3333333333333333,
              "#9c179e"
             ],
             [
              0.4444444444444444,
              "#bd3786"
             ],
             [
              0.5555555555555556,
              "#d8576b"
             ],
             [
              0.6666666666666666,
              "#ed7953"
             ],
             [
              0.7777777777777778,
              "#fb9f3a"
             ],
             [
              0.8888888888888888,
              "#fdca26"
             ],
             [
              1,
              "#f0f921"
             ]
            ],
            "type": "histogram2dcontour"
           }
          ],
          "mesh3d": [
           {
            "colorbar": {
             "outlinewidth": 0,
             "ticks": ""
            },
            "type": "mesh3d"
           }
          ],
          "parcoords": [
           {
            "line": {
             "colorbar": {
              "outlinewidth": 0,
              "ticks": ""
             }
            },
            "type": "parcoords"
           }
          ],
          "pie": [
           {
            "automargin": true,
            "type": "pie"
           }
          ],
          "scatter": [
           {
            "fillpattern": {
             "fillmode": "overlay",
             "size": 10,
             "solidity": 0.2
            },
            "type": "scatter"
           }
          ],
          "scatter3d": [
           {
            "line": {
             "colorbar": {
              "outlinewidth": 0,
              "ticks": ""
             }
            },
            "marker": {
             "colorbar": {
              "outlinewidth": 0,
              "ticks": ""
             }
            },
            "type": "scatter3d"
           }
          ],
          "scattercarpet": [
           {
            "marker": {
             "colorbar": {
              "outlinewidth": 0,
              "ticks": ""
             }
            },
            "type": "scattercarpet"
           }
          ],
          "scattergeo": [
           {
            "marker": {
             "colorbar": {
              "outlinewidth": 0,
              "ticks": ""
             }
            },
            "type": "scattergeo"
           }
          ],
          "scattergl": [
           {
            "marker": {
             "colorbar": {
              "outlinewidth": 0,
              "ticks": ""
             }
            },
            "type": "scattergl"
           }
          ],
          "scattermapbox": [
           {
            "marker": {
             "colorbar": {
              "outlinewidth": 0,
              "ticks": ""
             }
            },
            "type": "scattermapbox"
           }
          ],
          "scatterpolar": [
           {
            "marker": {
             "colorbar": {
              "outlinewidth": 0,
              "ticks": ""
             }
            },
            "type": "scatterpolar"
           }
          ],
          "scatterpolargl": [
           {
            "marker": {
             "colorbar": {
              "outlinewidth": 0,
              "ticks": ""
             }
            },
            "type": "scatterpolargl"
           }
          ],
          "scatterternary": [
           {
            "marker": {
             "colorbar": {
              "outlinewidth": 0,
              "ticks": ""
             }
            },
            "type": "scatterternary"
           }
          ],
          "surface": [
           {
            "colorbar": {
             "outlinewidth": 0,
             "ticks": ""
            },
            "colorscale": [
             [
              0,
              "#0d0887"
             ],
             [
              0.1111111111111111,
              "#46039f"
             ],
             [
              0.2222222222222222,
              "#7201a8"
             ],
             [
              0.3333333333333333,
              "#9c179e"
             ],
             [
              0.4444444444444444,
              "#bd3786"
             ],
             [
              0.5555555555555556,
              "#d8576b"
             ],
             [
              0.6666666666666666,
              "#ed7953"
             ],
             [
              0.7777777777777778,
              "#fb9f3a"
             ],
             [
              0.8888888888888888,
              "#fdca26"
             ],
             [
              1,
              "#f0f921"
             ]
            ],
            "type": "surface"
           }
          ],
          "table": [
           {
            "cells": {
             "fill": {
              "color": "#EBF0F8"
             },
             "line": {
              "color": "white"
             }
            },
            "header": {
             "fill": {
              "color": "#C8D4E3"
             },
             "line": {
              "color": "white"
             }
            },
            "type": "table"
           }
          ]
         },
         "layout": {
          "annotationdefaults": {
           "arrowcolor": "#2a3f5f",
           "arrowhead": 0,
           "arrowwidth": 1
          },
          "autotypenumbers": "strict",
          "coloraxis": {
           "colorbar": {
            "outlinewidth": 0,
            "ticks": ""
           }
          },
          "colorscale": {
           "diverging": [
            [
             0,
             "#8e0152"
            ],
            [
             0.1,
             "#c51b7d"
            ],
            [
             0.2,
             "#de77ae"
            ],
            [
             0.3,
             "#f1b6da"
            ],
            [
             0.4,
             "#fde0ef"
            ],
            [
             0.5,
             "#f7f7f7"
            ],
            [
             0.6,
             "#e6f5d0"
            ],
            [
             0.7,
             "#b8e186"
            ],
            [
             0.8,
             "#7fbc41"
            ],
            [
             0.9,
             "#4d9221"
            ],
            [
             1,
             "#276419"
            ]
           ],
           "sequential": [
            [
             0,
             "#0d0887"
            ],
            [
             0.1111111111111111,
             "#46039f"
            ],
            [
             0.2222222222222222,
             "#7201a8"
            ],
            [
             0.3333333333333333,
             "#9c179e"
            ],
            [
             0.4444444444444444,
             "#bd3786"
            ],
            [
             0.5555555555555556,
             "#d8576b"
            ],
            [
             0.6666666666666666,
             "#ed7953"
            ],
            [
             0.7777777777777778,
             "#fb9f3a"
            ],
            [
             0.8888888888888888,
             "#fdca26"
            ],
            [
             1,
             "#f0f921"
            ]
           ],
           "sequentialminus": [
            [
             0,
             "#0d0887"
            ],
            [
             0.1111111111111111,
             "#46039f"
            ],
            [
             0.2222222222222222,
             "#7201a8"
            ],
            [
             0.3333333333333333,
             "#9c179e"
            ],
            [
             0.4444444444444444,
             "#bd3786"
            ],
            [
             0.5555555555555556,
             "#d8576b"
            ],
            [
             0.6666666666666666,
             "#ed7953"
            ],
            [
             0.7777777777777778,
             "#fb9f3a"
            ],
            [
             0.8888888888888888,
             "#fdca26"
            ],
            [
             1,
             "#f0f921"
            ]
           ]
          },
          "colorway": [
           "#636efa",
           "#EF553B",
           "#00cc96",
           "#ab63fa",
           "#FFA15A",
           "#19d3f3",
           "#FF6692",
           "#B6E880",
           "#FF97FF",
           "#FECB52"
          ],
          "font": {
           "color": "#2a3f5f"
          },
          "geo": {
           "bgcolor": "white",
           "lakecolor": "white",
           "landcolor": "#E5ECF6",
           "showlakes": true,
           "showland": true,
           "subunitcolor": "white"
          },
          "hoverlabel": {
           "align": "left"
          },
          "hovermode": "closest",
          "mapbox": {
           "style": "light"
          },
          "paper_bgcolor": "white",
          "plot_bgcolor": "#E5ECF6",
          "polar": {
           "angularaxis": {
            "gridcolor": "white",
            "linecolor": "white",
            "ticks": ""
           },
           "bgcolor": "#E5ECF6",
           "radialaxis": {
            "gridcolor": "white",
            "linecolor": "white",
            "ticks": ""
           }
          },
          "scene": {
           "xaxis": {
            "backgroundcolor": "#E5ECF6",
            "gridcolor": "white",
            "gridwidth": 2,
            "linecolor": "white",
            "showbackground": true,
            "ticks": "",
            "zerolinecolor": "white"
           },
           "yaxis": {
            "backgroundcolor": "#E5ECF6",
            "gridcolor": "white",
            "gridwidth": 2,
            "linecolor": "white",
            "showbackground": true,
            "ticks": "",
            "zerolinecolor": "white"
           },
           "zaxis": {
            "backgroundcolor": "#E5ECF6",
            "gridcolor": "white",
            "gridwidth": 2,
            "linecolor": "white",
            "showbackground": true,
            "ticks": "",
            "zerolinecolor": "white"
           }
          },
          "shapedefaults": {
           "line": {
            "color": "#2a3f5f"
           }
          },
          "ternary": {
           "aaxis": {
            "gridcolor": "white",
            "linecolor": "white",
            "ticks": ""
           },
           "baxis": {
            "gridcolor": "white",
            "linecolor": "white",
            "ticks": ""
           },
           "bgcolor": "#E5ECF6",
           "caxis": {
            "gridcolor": "white",
            "linecolor": "white",
            "ticks": ""
           }
          },
          "title": {
           "x": 0.05
          },
          "xaxis": {
           "automargin": true,
           "gridcolor": "white",
           "linecolor": "white",
           "ticks": "",
           "title": {
            "standoff": 15
           },
           "zerolinecolor": "white",
           "zerolinewidth": 2
          },
          "yaxis": {
           "automargin": true,
           "gridcolor": "white",
           "linecolor": "white",
           "ticks": "",
           "title": {
            "standoff": 15
           },
           "zerolinecolor": "white",
           "zerolinewidth": 2
          }
         }
        },
        "title": {
         "text": "Linear Regression Mean Absolute Error for a given 5 year period"
        },
        "xaxis": {
         "title": {
          "text": "Years"
         }
        },
        "yaxis": {
         "title": {
          "text": "Mean Absolute Error"
         }
        }
       }
      }
     },
     "metadata": {},
     "output_type": "display_data"
    }
   ],
   "source": [
    "years = list(range(1930, 2020, 5))\n",
    "errors = []\n",
    "for year in years:\n",
    "    df = metadata_df.copy()\n",
    "    filt_metadata_df = df[metadata_df['movie_release_year'] < year]\n",
    "    filt_metadata_df = filt_metadata_df[filt_metadata_df['movie_release_year'] >= year-5]\n",
    "    errors.append(full_genre_process(filt_metadata_df, 100, list_of_other_cols=['averageRating'])[1])\n",
    "\n",
    "fig = go.Figure(data=go.Scatter(x=years, y=errors, mode='lines+markers'))\n",
    "fig.update_layout(title='Linear Regression Mean Absolute Error for a given 5 year period',\n",
    "                  xaxis_title='Years',\n",
    "                  yaxis_title='Mean Absolute Error')\n",
    "fig.show()\n"
   ]
  },
  {
   "cell_type": "code",
   "execution_count": 10,
   "metadata": {},
   "outputs": [
    {
     "data": {
      "application/vnd.plotly.v1+json": {
       "config": {
        "plotlyServerURL": "https://plot.ly"
       },
       "data": [
        {
         "line": {
          "color": "blue"
         },
         "mode": "lines",
         "name": "Average Rating",
         "type": "scatter",
         "x": [
          1921,
          1922,
          1923,
          1924,
          1925,
          1926,
          1927,
          1928,
          1929,
          1930,
          1931,
          1932,
          1933,
          1934,
          1935,
          1936,
          1937,
          1938,
          1939,
          1940,
          1941,
          1942,
          1943,
          1944,
          1945,
          1946,
          1947,
          1948,
          1949,
          1950,
          1951,
          1952,
          1953,
          1954,
          1955,
          1956,
          1957,
          1958,
          1959,
          1960,
          1961,
          1962,
          1963,
          1964,
          1965,
          1966,
          1967,
          1968,
          1969,
          1970,
          1971,
          1972,
          1973,
          1974,
          1975,
          1976,
          1977,
          1978,
          1979,
          1980,
          1981,
          1982,
          1983,
          1984,
          1985,
          1986,
          1987,
          1988,
          1989,
          1990,
          1991,
          1992,
          1993,
          1994,
          1995,
          1996,
          1997,
          1998,
          1999,
          2000,
          2001,
          2002,
          2003,
          2004,
          2005,
          2006,
          2007,
          2008,
          2009,
          2010,
          2011,
          2012,
          2013,
          2014
         ],
         "xaxis": "x",
         "y": [
          6.828571428571428,
          6.619047619047619,
          6.984615384615385,
          7.034782608695653,
          6.578571428571428,
          6.835483870967742,
          6.955555555555556,
          6.9475,
          6.377083333333334,
          6.2859649122807015,
          6.504819277108433,
          6.571818181818181,
          6.496938775510205,
          6.433333333333334,
          6.496116504854369,
          6.515686274509804,
          6.638392857142857,
          6.474509803921569,
          6.713592233009709,
          6.642857142857143,
          6.6237704918032785,
          6.516666666666667,
          6.502678571428571,
          6.447863247863248,
          6.584761904761905,
          6.700909090909091,
          6.696031746031746,
          6.819285714285715,
          6.707638888888889,
          6.603289473684211,
          6.541780821917809,
          6.53006993006993,
          6.476129032258064,
          6.495555555555556,
          6.505479452054794,
          6.416666666666667,
          6.37245508982036,
          6.318674698795181,
          6.437267080745342,
          6.4648,
          6.350359712230216,
          6.591176470588235,
          6.558267716535433,
          6.478064516129033,
          6.445890410958905,
          6.186330935251799,
          6.219753086419753,
          6.329870129870129,
          6.307272727272728,
          6.22360248447205,
          6.360555555555556,
          6.316571428571429,
          6.355681818181818,
          6.3225,
          6.4037313432835825,
          6.239506172839506,
          6.289696969696969,
          6.243870967741935,
          6.193292682926829,
          6.142708333333334,
          6.2792134831460675,
          6.371195652173912,
          6.139130434782608,
          6.2679802955665025,
          6.342194092827004,
          6.17,
          6.109558823529412,
          6.188025889967637,
          6.20418118466899,
          6.091881918819189,
          6.250950570342205,
          6.232699619771863,
          6.240378548895899,
          6.149085365853659,
          6.246428571428572,
          6.150574712643678,
          6.289124668435013,
          6.268877551020409,
          6.268395061728395,
          6.167574257425742,
          6.195584988962472,
          6.110399999999999,
          6.140831758034026,
          6.185509838998211,
          6.043556280587276,
          6.045152354570638,
          6.11448275862069,
          6.004602510460251,
          6.057402234636872,
          6.063734567901235,
          6.024503311258279,
          5.949411764705882,
          6.155555555555555,
          5.8
         ],
         "yaxis": "y"
        },
        {
         "alignmentgroup": "True",
         "bingroup": "x",
         "hovertemplate": "movie_release_year=%{x}<br>count=%{y}<extra></extra>",
         "legendgroup": "",
         "marker": {
          "color": "#636efa",
          "pattern": {
           "shape": ""
          }
         },
         "name": "",
         "nbinsx": 10,
         "offsetgroup": "",
         "orientation": "v",
         "showlegend": false,
         "type": "histogram",
         "x": [
          1994,
          1972,
          1957,
          1995,
          1988,
          1993,
          1987,
          1957,
          2003,
          2008,
          1974,
          1994,
          1975,
          1989,
          2001,
          2002,
          1974,
          1994,
          1999,
          1962,
          1966,
          2010,
          1997,
          1992,
          1993,
          1973,
          1988,
          1990,
          1999,
          1985,
          1975,
          1996,
          1987,
          1998,
          1966,
          2002,
          1954,
          1991,
          1997,
          2004,
          1985,
          1996,
          1991,
          1955,
          1946,
          1999,
          1990,
          2001,
          2003,
          1969,
          1969,
          1962,
          1977,
          1998,
          2012,
          1942,
          1931,
          2008,
          1978,
          2002,
          1981,
          1964,
          1991,
          1992,
          1954,
          1998,
          1936,
          1994,
          1996,
          1985,
          2006,
          1968,
          1997,
          1979,
          2006,
          1994,
          1954,
          1979,
          2000,
          1989,
          1988,
          1964,
          1991,
          1991,
          1998,
          2004,
          1980,
          1981,
          2005,
          1963,
          1972,
          1979,
          2010,
          1972,
          1984,
          2000,
          1985,
          2003,
          1997,
          1986,
          1999,
          2003,
          2009,
          1957,
          2006,
          1991,
          1987,
          1940,
          1954,
          1983,
          2004,
          2012,
          2002,
          2006,
          2010,
          2009,
          2010,
          1986,
          1962,
          1968,
          1999,
          1969,
          2005,
          2008,
          2000,
          2011,
          2010,
          1995,
          1944,
          2004,
          1960,
          1952,
          1987,
          1989,
          1994,
          2002,
          2010,
          2007,
          1965,
          1959,
          1961,
          1989,
          1948,
          1941,
          1995,
          1985,
          1967,
          1961,
          2007,
          2003,
          1927,
          1992,
          1953,
          1945,
          1995,
          1998,
          1958,
          2009,
          2011,
          1975,
          1965,
          1988,
          1971,
          1980,
          2003,
          1997,
          2010,
          1996,
          1931,
          2008,
          1952,
          2003,
          1994,
          1997,
          1960,
          1983,
          1999,
          1934,
          2001,
          1984,
          1973,
          1983,
          1962,
          1983,
          1975,
          1992,
          2006,
          2007,
          2007,
          1948,
          1974,
          1999,
          1991,
          2012,
          1954,
          2011,
          1953,
          2003,
          2005,
          1959,
          1993,
          1949,
          2009,
          1956,
          1988,
          1987,
          1992,
          1985,
          1953,
          1965,
          2007,
          1990,
          1965,
          1997,
          1959,
          1982,
          1939,
          1985,
          1997,
          2010,
          2012,
          1921,
          1963,
          1950,
          1961,
          1976,
          1955,
          1986,
          2005,
          1997,
          1984,
          1976,
          1950,
          1998,
          2006,
          1995,
          1932,
          2004,
          2010,
          1984,
          1960,
          1937,
          1989,
          2008,
          2001,
          2002,
          2000,
          1969,
          1957,
          1980,
          1956,
          1990,
          2004,
          1942,
          2012,
          2007,
          2006,
          1988,
          1962,
          1998,
          1977,
          1957,
          2007,
          1993,
          1939,
          2009,
          1959,
          1991,
          2010,
          1930,
          1923,
          1949,
          1991,
          2007,
          1992,
          1982,
          1957,
          1953,
          2008,
          1996,
          1976,
          1957,
          1948,
          1951,
          1984,
          1986,
          2007,
          1982,
          1925,
          2010,
          1965,
          1992,
          1979,
          1981,
          2011,
          1976,
          1958,
          1974,
          2003,
          1995,
          1953,
          1977,
          1951,
          1984,
          2011,
          1999,
          2012,
          1965,
          1998,
          1962,
          2001,
          1926,
          1960,
          2005,
          1982,
          1973,
          1984,
          1980,
          1995,
          1965,
          2002,
          1998,
          2007,
          2006,
          1963,
          1966,
          1977,
          1951,
          1994,
          2010,
          2008,
          1997,
          1949,
          1957,
          1990,
          1993,
          1998,
          1959,
          1958,
          1964,
          1978,
          1960,
          1989,
          1975,
          1986,
          2011,
          1996,
          2012,
          2004,
          1946,
          2002,
          1934,
          2008,
          1975,
          1957,
          1989,
          1940,
          2000,
          2001,
          2007,
          1972,
          1996,
          1969,
          1988,
          2004,
          1995,
          1973,
          1978,
          2004,
          1928,
          1939,
          1949,
          1994,
          2008,
          1984,
          1999,
          1988,
          2004,
          1996,
          1952,
          1988,
          2010,
          1995,
          2004,
          2002,
          1928,
          1975,
          2013,
          2011,
          2011,
          1982,
          1969,
          1940,
          2010,
          1967,
          1984,
          1997,
          2006,
          1997,
          1954,
          1972,
          1999,
          2003,
          2011,
          1959,
          1988,
          2003,
          1928,
          1943,
          1955,
          1984,
          1994,
          1961,
          1984,
          2004,
          1990,
          1989,
          1988,
          1973,
          2006,
          1974,
          1989,
          2007,
          2012,
          1924,
          1975,
          2010,
          1960,
          2008,
          1974,
          2003,
          2002,
          1992,
          1983,
          2008,
          1975,
          1921,
          1989,
          1966,
          1989,
          1958,
          1991,
          1986,
          2006,
          1952,
          1979,
          1969,
          2007,
          2011,
          1960,
          1987,
          2005,
          1928,
          2006,
          1947,
          2004,
          2010,
          2009,
          1982,
          1970,
          1961,
          1940,
          2007,
          2004,
          1982,
          2006,
          1998,
          1968,
          1928,
          1972,
          2007,
          1973,
          1957,
          1968,
          2010,
          2010,
          1920,
          1943,
          1977,
          1988,
          1989,
          1959,
          1962,
          2004,
          1996,
          1994,
          1968,
          1946,
          1928,
          2012,
          2001,
          2000,
          1949,
          2003,
          1989,
          2006,
          2006,
          1963,
          1967,
          1986,
          1965,
          1987,
          2008,
          1991,
          2005,
          2001,
          2005,
          1945,
          1924,
          1961,
          1997,
          1998,
          1993,
          1960,
          1994,
          1945,
          1996,
          1997,
          1999,
          1998,
          1962,
          1972,
          1971,
          1977,
          1952,
          1946,
          1943,
          1974,
          1961,
          1989,
          2005,
          2004,
          1998,
          1982,
          2007,
          2008,
          1992,
          1999,
          1971,
          2004,
          1966,
          2003,
          1998,
          1988,
          1996,
          1959,
          1954,
          2007,
          1960,
          1967,
          1955,
          1988,
          2001,
          2008,
          1991,
          1988,
          1953,
          1999,
          1959,
          2003,
          1959,
          2007,
          2003,
          1993,
          1995,
          1992,
          1941,
          2002,
          2009,
          1969,
          1953,
          1962,
          1956,
          2009,
          1968,
          1994,
          1994,
          1963,
          2008,
          1972,
          2010,
          2004,
          1993,
          2010,
          1993,
          1985,
          1982,
          1998,
          1997,
          1958,
          1925,
          2006,
          1965,
          1964,
          1985,
          2007,
          2007,
          2004,
          1944,
          1964,
          1951,
          1993,
          1985,
          2008,
          1967,
          1939,
          1950,
          1986,
          2008,
          1945,
          1995,
          1959,
          2009,
          1958,
          1980,
          1962,
          1997,
          1977,
          2000,
          2008,
          1985,
          1938,
          2013,
          1961,
          2001,
          2005,
          1971,
          1972,
          2000,
          1932,
          1951,
          1965,
          1996,
          1957,
          1963,
          1982,
          1953,
          2002,
          1999,
          1998,
          2011,
          2004,
          1988,
          2001,
          1950,
          1964,
          1942,
          1968,
          2004,
          1973,
          1958,
          2003,
          1970,
          1990,
          1995,
          2007,
          1956,
          2007,
          1948,
          1926,
          1958,
          2012,
          1987,
          1998,
          2000,
          1961,
          2008,
          1958,
          2002,
          1986,
          1933,
          1997,
          1989,
          1938,
          1999,
          2007,
          1940,
          1941,
          1980,
          1967,
          1993,
          1987,
          2012,
          1995,
          1988,
          1994,
          1950,
          2008,
          1966,
          1975,
          1980,
          1969,
          2008,
          2007,
          1953,
          2007,
          1958,
          2005,
          1967,
          2008,
          1983,
          1974,
          1936,
          1941,
          1942,
          1958,
          1959,
          2009,
          1960,
          2007,
          2005,
          1980,
          2009,
          1955,
          2003,
          2003,
          2004,
          1982,
          1975,
          1977,
          1986,
          1946,
          1994,
          1958,
          2000,
          1976,
          1970,
          2004,
          2006,
          1988,
          2005,
          1946,
          2009,
          1960,
          1983,
          1934,
          2006,
          1998,
          1963,
          1945,
          1988,
          2001,
          1939,
          1984,
          2006,
          2009,
          1937,
          2002,
          1964,
          2004,
          1979,
          1946,
          2001,
          2011,
          1957,
          2006,
          1993,
          1981,
          2000,
          1964,
          1922,
          1939,
          1956,
          2004,
          1989,
          2011,
          2011,
          1947,
          2010,
          1993,
          1944,
          1954,
          1964,
          2003,
          2004,
          2011,
          1984,
          1993,
          1970,
          2005,
          1985,
          1964,
          2000,
          2009,
          1990,
          1948,
          1969,
          2004,
          1989,
          1962,
          1989,
          2001,
          1989,
          1990,
          1994,
          1989,
          1990,
          2010,
          2011,
          1983,
          1981,
          1989,
          1992,
          2006,
          1984,
          2005,
          1974,
          2002,
          2011,
          2005,
          1988,
          1971,
          1931,
          1969,
          1929,
          1993,
          1939,
          2002,
          1935,
          1939,
          1975,
          2005,
          2007,
          2005,
          1989,
          2007,
          1961,
          1969,
          1944,
          1993,
          1978,
          1993,
          1953,
          2001,
          1952,
          2008,
          1986,
          1998,
          1999,
          1993,
          1948,
          1965,
          1994,
          1925,
          2001,
          1993,
          1990,
          2011,
          1971,
          2004,
          1943,
          1985,
          1999,
          1964,
          2005,
          1987,
          2000,
          1986,
          1958,
          2007,
          2010,
          1951,
          2007,
          2003,
          1993,
          2000,
          2003,
          1983,
          2002,
          2011,
          2004,
          1984,
          1955,
          2011,
          2003,
          2008,
          2006,
          1956,
          2009,
          2004,
          2004,
          1985,
          1948,
          1997,
          2003,
          2012,
          1946,
          2007,
          1976,
          2007,
          1987,
          1978,
          1948,
          1996,
          1985,
          1987,
          1924,
          2004,
          2007,
          1995,
          2010,
          1963,
          2000,
          1964,
          1983,
          1987,
          2003,
          1957,
          1982,
          1959,
          2004,
          1947,
          2005,
          1940,
          2009,
          2012,
          1958,
          1936,
          2007,
          1999,
          1978,
          2004,
          1972,
          1991,
          1999,
          1977,
          2008,
          1979,
          2007,
          1966,
          2011,
          1973,
          1931,
          1972,
          1973,
          1993,
          1993,
          1936,
          1988,
          1999,
          2007,
          1986,
          1952,
          2006,
          2009,
          1965,
          2000,
          2012,
          1987,
          1950,
          2005,
          1964,
          2012,
          1968,
          2002,
          1991,
          1999,
          1923,
          1984,
          1994,
          2000,
          1980,
          2004,
          2007,
          1975,
          2001,
          1963,
          1956,
          2001,
          2005,
          1962,
          1951,
          2005,
          2006,
          1947,
          1982,
          1994,
          1944,
          1988,
          1958,
          1963,
          1987,
          1999,
          2006,
          1971,
          1962,
          2000,
          1939,
          2008,
          1949,
          2005,
          1999,
          1949,
          1961,
          1979,
          2010,
          2003,
          1932,
          2011,
          1989
         ],
         "xaxis": "x2",
         "yaxis": "y2"
        }
       ],
       "layout": {
        "height": 600,
        "template": {
         "data": {
          "bar": [
           {
            "error_x": {
             "color": "#2a3f5f"
            },
            "error_y": {
             "color": "#2a3f5f"
            },
            "marker": {
             "line": {
              "color": "#E5ECF6",
              "width": 0.5
             },
             "pattern": {
              "fillmode": "overlay",
              "size": 10,
              "solidity": 0.2
             }
            },
            "type": "bar"
           }
          ],
          "barpolar": [
           {
            "marker": {
             "line": {
              "color": "#E5ECF6",
              "width": 0.5
             },
             "pattern": {
              "fillmode": "overlay",
              "size": 10,
              "solidity": 0.2
             }
            },
            "type": "barpolar"
           }
          ],
          "carpet": [
           {
            "aaxis": {
             "endlinecolor": "#2a3f5f",
             "gridcolor": "white",
             "linecolor": "white",
             "minorgridcolor": "white",
             "startlinecolor": "#2a3f5f"
            },
            "baxis": {
             "endlinecolor": "#2a3f5f",
             "gridcolor": "white",
             "linecolor": "white",
             "minorgridcolor": "white",
             "startlinecolor": "#2a3f5f"
            },
            "type": "carpet"
           }
          ],
          "choropleth": [
           {
            "colorbar": {
             "outlinewidth": 0,
             "ticks": ""
            },
            "type": "choropleth"
           }
          ],
          "contour": [
           {
            "colorbar": {
             "outlinewidth": 0,
             "ticks": ""
            },
            "colorscale": [
             [
              0,
              "#0d0887"
             ],
             [
              0.1111111111111111,
              "#46039f"
             ],
             [
              0.2222222222222222,
              "#7201a8"
             ],
             [
              0.3333333333333333,
              "#9c179e"
             ],
             [
              0.4444444444444444,
              "#bd3786"
             ],
             [
              0.5555555555555556,
              "#d8576b"
             ],
             [
              0.6666666666666666,
              "#ed7953"
             ],
             [
              0.7777777777777778,
              "#fb9f3a"
             ],
             [
              0.8888888888888888,
              "#fdca26"
             ],
             [
              1,
              "#f0f921"
             ]
            ],
            "type": "contour"
           }
          ],
          "contourcarpet": [
           {
            "colorbar": {
             "outlinewidth": 0,
             "ticks": ""
            },
            "type": "contourcarpet"
           }
          ],
          "heatmap": [
           {
            "colorbar": {
             "outlinewidth": 0,
             "ticks": ""
            },
            "colorscale": [
             [
              0,
              "#0d0887"
             ],
             [
              0.1111111111111111,
              "#46039f"
             ],
             [
              0.2222222222222222,
              "#7201a8"
             ],
             [
              0.3333333333333333,
              "#9c179e"
             ],
             [
              0.4444444444444444,
              "#bd3786"
             ],
             [
              0.5555555555555556,
              "#d8576b"
             ],
             [
              0.6666666666666666,
              "#ed7953"
             ],
             [
              0.7777777777777778,
              "#fb9f3a"
             ],
             [
              0.8888888888888888,
              "#fdca26"
             ],
             [
              1,
              "#f0f921"
             ]
            ],
            "type": "heatmap"
           }
          ],
          "heatmapgl": [
           {
            "colorbar": {
             "outlinewidth": 0,
             "ticks": ""
            },
            "colorscale": [
             [
              0,
              "#0d0887"
             ],
             [
              0.1111111111111111,
              "#46039f"
             ],
             [
              0.2222222222222222,
              "#7201a8"
             ],
             [
              0.3333333333333333,
              "#9c179e"
             ],
             [
              0.4444444444444444,
              "#bd3786"
             ],
             [
              0.5555555555555556,
              "#d8576b"
             ],
             [
              0.6666666666666666,
              "#ed7953"
             ],
             [
              0.7777777777777778,
              "#fb9f3a"
             ],
             [
              0.8888888888888888,
              "#fdca26"
             ],
             [
              1,
              "#f0f921"
             ]
            ],
            "type": "heatmapgl"
           }
          ],
          "histogram": [
           {
            "marker": {
             "pattern": {
              "fillmode": "overlay",
              "size": 10,
              "solidity": 0.2
             }
            },
            "type": "histogram"
           }
          ],
          "histogram2d": [
           {
            "colorbar": {
             "outlinewidth": 0,
             "ticks": ""
            },
            "colorscale": [
             [
              0,
              "#0d0887"
             ],
             [
              0.1111111111111111,
              "#46039f"
             ],
             [
              0.2222222222222222,
              "#7201a8"
             ],
             [
              0.3333333333333333,
              "#9c179e"
             ],
             [
              0.4444444444444444,
              "#bd3786"
             ],
             [
              0.5555555555555556,
              "#d8576b"
             ],
             [
              0.6666666666666666,
              "#ed7953"
             ],
             [
              0.7777777777777778,
              "#fb9f3a"
             ],
             [
              0.8888888888888888,
              "#fdca26"
             ],
             [
              1,
              "#f0f921"
             ]
            ],
            "type": "histogram2d"
           }
          ],
          "histogram2dcontour": [
           {
            "colorbar": {
             "outlinewidth": 0,
             "ticks": ""
            },
            "colorscale": [
             [
              0,
              "#0d0887"
             ],
             [
              0.1111111111111111,
              "#46039f"
             ],
             [
              0.2222222222222222,
              "#7201a8"
             ],
             [
              0.3333333333333333,
              "#9c179e"
             ],
             [
              0.4444444444444444,
              "#bd3786"
             ],
             [
              0.5555555555555556,
              "#d8576b"
             ],
             [
              0.6666666666666666,
              "#ed7953"
             ],
             [
              0.7777777777777778,
              "#fb9f3a"
             ],
             [
              0.8888888888888888,
              "#fdca26"
             ],
             [
              1,
              "#f0f921"
             ]
            ],
            "type": "histogram2dcontour"
           }
          ],
          "mesh3d": [
           {
            "colorbar": {
             "outlinewidth": 0,
             "ticks": ""
            },
            "type": "mesh3d"
           }
          ],
          "parcoords": [
           {
            "line": {
             "colorbar": {
              "outlinewidth": 0,
              "ticks": ""
             }
            },
            "type": "parcoords"
           }
          ],
          "pie": [
           {
            "automargin": true,
            "type": "pie"
           }
          ],
          "scatter": [
           {
            "fillpattern": {
             "fillmode": "overlay",
             "size": 10,
             "solidity": 0.2
            },
            "type": "scatter"
           }
          ],
          "scatter3d": [
           {
            "line": {
             "colorbar": {
              "outlinewidth": 0,
              "ticks": ""
             }
            },
            "marker": {
             "colorbar": {
              "outlinewidth": 0,
              "ticks": ""
             }
            },
            "type": "scatter3d"
           }
          ],
          "scattercarpet": [
           {
            "marker": {
             "colorbar": {
              "outlinewidth": 0,
              "ticks": ""
             }
            },
            "type": "scattercarpet"
           }
          ],
          "scattergeo": [
           {
            "marker": {
             "colorbar": {
              "outlinewidth": 0,
              "ticks": ""
             }
            },
            "type": "scattergeo"
           }
          ],
          "scattergl": [
           {
            "marker": {
             "colorbar": {
              "outlinewidth": 0,
              "ticks": ""
             }
            },
            "type": "scattergl"
           }
          ],
          "scattermapbox": [
           {
            "marker": {
             "colorbar": {
              "outlinewidth": 0,
              "ticks": ""
             }
            },
            "type": "scattermapbox"
           }
          ],
          "scatterpolar": [
           {
            "marker": {
             "colorbar": {
              "outlinewidth": 0,
              "ticks": ""
             }
            },
            "type": "scatterpolar"
           }
          ],
          "scatterpolargl": [
           {
            "marker": {
             "colorbar": {
              "outlinewidth": 0,
              "ticks": ""
             }
            },
            "type": "scatterpolargl"
           }
          ],
          "scatterternary": [
           {
            "marker": {
             "colorbar": {
              "outlinewidth": 0,
              "ticks": ""
             }
            },
            "type": "scatterternary"
           }
          ],
          "surface": [
           {
            "colorbar": {
             "outlinewidth": 0,
             "ticks": ""
            },
            "colorscale": [
             [
              0,
              "#0d0887"
             ],
             [
              0.1111111111111111,
              "#46039f"
             ],
             [
              0.2222222222222222,
              "#7201a8"
             ],
             [
              0.3333333333333333,
              "#9c179e"
             ],
             [
              0.4444444444444444,
              "#bd3786"
             ],
             [
              0.5555555555555556,
              "#d8576b"
             ],
             [
              0.6666666666666666,
              "#ed7953"
             ],
             [
              0.7777777777777778,
              "#fb9f3a"
             ],
             [
              0.8888888888888888,
              "#fdca26"
             ],
             [
              1,
              "#f0f921"
             ]
            ],
            "type": "surface"
           }
          ],
          "table": [
           {
            "cells": {
             "fill": {
              "color": "#EBF0F8"
             },
             "line": {
              "color": "white"
             }
            },
            "header": {
             "fill": {
              "color": "#C8D4E3"
             },
             "line": {
              "color": "white"
             }
            },
            "type": "table"
           }
          ]
         },
         "layout": {
          "annotationdefaults": {
           "arrowcolor": "#2a3f5f",
           "arrowhead": 0,
           "arrowwidth": 1
          },
          "autotypenumbers": "strict",
          "coloraxis": {
           "colorbar": {
            "outlinewidth": 0,
            "ticks": ""
           }
          },
          "colorscale": {
           "diverging": [
            [
             0,
             "#8e0152"
            ],
            [
             0.1,
             "#c51b7d"
            ],
            [
             0.2,
             "#de77ae"
            ],
            [
             0.3,
             "#f1b6da"
            ],
            [
             0.4,
             "#fde0ef"
            ],
            [
             0.5,
             "#f7f7f7"
            ],
            [
             0.6,
             "#e6f5d0"
            ],
            [
             0.7,
             "#b8e186"
            ],
            [
             0.8,
             "#7fbc41"
            ],
            [
             0.9,
             "#4d9221"
            ],
            [
             1,
             "#276419"
            ]
           ],
           "sequential": [
            [
             0,
             "#0d0887"
            ],
            [
             0.1111111111111111,
             "#46039f"
            ],
            [
             0.2222222222222222,
             "#7201a8"
            ],
            [
             0.3333333333333333,
             "#9c179e"
            ],
            [
             0.4444444444444444,
             "#bd3786"
            ],
            [
             0.5555555555555556,
             "#d8576b"
            ],
            [
             0.6666666666666666,
             "#ed7953"
            ],
            [
             0.7777777777777778,
             "#fb9f3a"
            ],
            [
             0.8888888888888888,
             "#fdca26"
            ],
            [
             1,
             "#f0f921"
            ]
           ],
           "sequentialminus": [
            [
             0,
             "#0d0887"
            ],
            [
             0.1111111111111111,
             "#46039f"
            ],
            [
             0.2222222222222222,
             "#7201a8"
            ],
            [
             0.3333333333333333,
             "#9c179e"
            ],
            [
             0.4444444444444444,
             "#bd3786"
            ],
            [
             0.5555555555555556,
             "#d8576b"
            ],
            [
             0.6666666666666666,
             "#ed7953"
            ],
            [
             0.7777777777777778,
             "#fb9f3a"
            ],
            [
             0.8888888888888888,
             "#fdca26"
            ],
            [
             1,
             "#f0f921"
            ]
           ]
          },
          "colorway": [
           "#636efa",
           "#EF553B",
           "#00cc96",
           "#ab63fa",
           "#FFA15A",
           "#19d3f3",
           "#FF6692",
           "#B6E880",
           "#FF97FF",
           "#FECB52"
          ],
          "font": {
           "color": "#2a3f5f"
          },
          "geo": {
           "bgcolor": "white",
           "lakecolor": "white",
           "landcolor": "#E5ECF6",
           "showlakes": true,
           "showland": true,
           "subunitcolor": "white"
          },
          "hoverlabel": {
           "align": "left"
          },
          "hovermode": "closest",
          "mapbox": {
           "style": "light"
          },
          "paper_bgcolor": "white",
          "plot_bgcolor": "#E5ECF6",
          "polar": {
           "angularaxis": {
            "gridcolor": "white",
            "linecolor": "white",
            "ticks": ""
           },
           "bgcolor": "#E5ECF6",
           "radialaxis": {
            "gridcolor": "white",
            "linecolor": "white",
            "ticks": ""
           }
          },
          "scene": {
           "xaxis": {
            "backgroundcolor": "#E5ECF6",
            "gridcolor": "white",
            "gridwidth": 2,
            "linecolor": "white",
            "showbackground": true,
            "ticks": "",
            "zerolinecolor": "white"
           },
           "yaxis": {
            "backgroundcolor": "#E5ECF6",
            "gridcolor": "white",
            "gridwidth": 2,
            "linecolor": "white",
            "showbackground": true,
            "ticks": "",
            "zerolinecolor": "white"
           },
           "zaxis": {
            "backgroundcolor": "#E5ECF6",
            "gridcolor": "white",
            "gridwidth": 2,
            "linecolor": "white",
            "showbackground": true,
            "ticks": "",
            "zerolinecolor": "white"
           }
          },
          "shapedefaults": {
           "line": {
            "color": "#2a3f5f"
           }
          },
          "ternary": {
           "aaxis": {
            "gridcolor": "white",
            "linecolor": "white",
            "ticks": ""
           },
           "baxis": {
            "gridcolor": "white",
            "linecolor": "white",
            "ticks": ""
           },
           "bgcolor": "#E5ECF6",
           "caxis": {
            "gridcolor": "white",
            "linecolor": "white",
            "ticks": ""
           }
          },
          "title": {
           "x": 0.05
          },
          "xaxis": {
           "automargin": true,
           "gridcolor": "white",
           "linecolor": "white",
           "ticks": "",
           "title": {
            "standoff": 15
           },
           "zerolinecolor": "white",
           "zerolinewidth": 2
          },
          "yaxis": {
           "automargin": true,
           "gridcolor": "white",
           "linecolor": "white",
           "ticks": "",
           "title": {
            "standoff": 15
           },
           "zerolinecolor": "white",
           "zerolinewidth": 2
          }
         }
        },
        "title": {
         "text": "Average Ratings per year vs Top 1000 Movie Distribution Over Years"
        },
        "xaxis": {
         "anchor": "y",
         "domain": [
          0,
          1
         ],
         "matches": "x2",
         "showticklabels": false
        },
        "xaxis2": {
         "anchor": "y2",
         "domain": [
          0,
          1
         ]
        },
        "yaxis": {
         "anchor": "x",
         "domain": [
          0.55,
          1
         ]
        },
        "yaxis2": {
         "anchor": "x2",
         "domain": [
          0,
          0.45
         ]
        }
       }
      }
     },
     "metadata": {},
     "output_type": "display_data"
    }
   ],
   "source": [
    "\n",
    "# Plot 1: Average Rating per Year (Line Plot)\n",
    "df = metadata_df[metadata_df['movie_release_year']>1920].copy().groupby('movie_release_year')['averageRating'].mean().reset_index()\n",
    "# Create a line trace for \"Average Rating per Year\"\n",
    "line_trace = go.Scatter(\n",
    "    x=df['movie_release_year'],\n",
    "    y=df['averageRating'],\n",
    "    mode='lines',\n",
    "    name='Average Rating',\n",
    "    line=dict(color='blue'),  # Customize line color\n",
    ")\n",
    "\n",
    "# Create a layout\n",
    "layout = go.Layout(\n",
    "    title='Average Rating per Year',\n",
    "    xaxis=dict(title='Years'),\n",
    "    yaxis=dict(title='Average Rating'),\n",
    ")\n",
    "fig1 = go.Figure(data=[line_trace], layout=layout)\n",
    "fig1.update_xaxes(title_text='Years')\n",
    "fig1.update_yaxes(title_text='Average Rating')\n",
    "\n",
    "# Plot 2: Distribution of Top 1000 Movies by Year (Histogram)\n",
    "df_top_1000 = metadata_df.sort_values(by='averageRating', ascending=False).head(1000)\n",
    "fig2 = px.histogram(df_top_1000, x='movie_release_year', nbins=10, title='Distribution of Top 1000 Movies by Year')\n",
    "fig2.update_xaxes(title_text='Years')\n",
    "fig2.update_yaxes(title_text='Counts')\n",
    "\n",
    "# Create a subplot with two plots vertically\n",
    "fig = make_subplots(rows=2, cols=1, shared_xaxes=True, vertical_spacing=0.1)\n",
    "fig.add_trace(fig1.data[0], row=1, col=1)\n",
    "fig.add_trace(fig2.data[0], row=2, col=1)\n",
    "\n",
    "# Update layout and titles\n",
    "fig.update_layout(height=600, title_text=\"Average Ratings per year vs Top 1000 Movie Distribution Over Years\")\n",
    "\n",
    "# Show the plot\n",
    "fig.show()\n",
    "\n"
   ]
  },
  {
   "cell_type": "markdown",
   "metadata": {},
   "source": [
    "# Where them good fims at?\n",
    "A as we can see, the avarrage ratting of films seems to go down throughouut years, yet if we analise the top 1000 movies, we see that they are more likeley to be found in the recent years. Considering that the evaluation of movie genres wasn't quite sufficient, why not try gain more information on their \"vibe\" by analising the plots. Such analysis can be conducted with the aid of NLP tools, it is however important to reflect on what sort of information we want to use. \n",
    "\n",
    "Having observed the different prrertrained models and their caapabilaties (as much as the capabilaties of our hardware), it seemed that an interesting aproach would be utilizing the zero-shot-classification capabilaty of DeBERTa-v3-base-mnli-fever-anli, a pretrained and fine-tuned model we found on hugging face. Given a text and a list of labels as input, the model assigns probabilaties to each of the labels (together summing to 1). Thus, an interesting aprroach would be to create multiple lists with emelements from similar groups and running thee model on all the texts and lists, get orer informattion about the time period described in the plot, a particular way the plot was constructed, what sort of problem is the story constructed around etc. \n",
    "\n",
    "Since this is a computation heavy process, it was decided to only run in on parrt of our dataset, nameley films coming out after 1980 and having more than 1000 votes. This still gave us 9900 samples to worrk with.\n"
   ]
  },
  {
   "cell_type": "code",
   "execution_count": 58,
   "metadata": {},
   "outputs": [],
   "source": [
    "def filter_dictionnary(dict, threshold):\n",
    "    return {key: value for key, value in dict.items() if value > threshold}\n",
    "\n",
    "def create_labels_df(threshold = 0.5, path_to_file = 'data/DeBERTa-v3/complete_De-BERTa_plots.csv'):\n",
    "    concat_labels_df = pd.read_csv(path_to_file)\n",
    "    concat_labels_df = concat_labels_df.drop_duplicates(subset=['wiki_movie_id'])\n",
    "    concat_labels_df = concat_labels_df.set_index('wiki_movie_id')\n",
    "    #concat_labels_df = concat_labels_df[~concat_labels_df.index.duplicated(keep='first')]\n",
    "    #checking that no duplicate indexes are present\n",
    "    assert len(concat_labels_df.index) == concat_labels_df.index.nunique()\n",
    "\n",
    "    concat_labels_df['labels'] = concat_labels_df['labels'].apply(ast.literal_eval) \n",
    "    concat_labels_df = concat_labels_df.sort_values('averageRating', ascending=False)\n",
    "    rating_labels = concat_labels_df[['averageRating','movie_name','labels']].copy()\n",
    "\n",
    "    rating_labels['labels'] = rating_labels['labels'].apply(lambda x: filter_dictionnary(x, threshold))\n",
    "    #rating_labels = rating_labels[~rating_labels.index.duplicated(keep='first')]\n",
    "    assert len(rating_labels.index) == rating_labels.index.nunique()\n",
    "\n",
    "\n",
    "    return rating_labels\n"
   ]
  },
  {
   "cell_type": "code",
   "execution_count": 34,
   "metadata": {},
   "outputs": [
    {
     "name": "stdout",
     "output_type": "stream",
     "text": [
      "Number of unique labels is  228\n"
     ]
    }
   ],
   "source": [
    "#get the keys aka unique labels\n",
    "def get_unique_labels(rating_labels):\n",
    "    keys = set()\n",
    "    for label_dict in rating_labels['labels']:\n",
    "        keys.update(label_dict.keys())\n",
    "    return keys\n",
    "print(\"Number of unique labels is \", len(get_unique_labels(create_labels_df(0.5))))"
   ]
  },
  {
   "cell_type": "code",
   "execution_count": 60,
   "metadata": {},
   "outputs": [],
   "source": [
    "def filter_label_count(label_count, min_nb_to_keep, max_nb_to_keep, show_counts, top_counts_to_show): \n",
    "    df = label_count.copy()\n",
    "    df = df[df > min_nb_to_keep]\n",
    "    df = df[df < max_nb_to_keep]\n",
    "    df = df.sort_values(ascending=False)\n",
    "    top_df  = df.head(top_counts_to_show)\n",
    "    if show_counts:\n",
    "        fig = go.Figure(data=[go.Bar(x=top_df.values, y=top_df.index, orientation='h')])\n",
    "        fig.update_layout(\n",
    "            title='Label Counts',\n",
    "            xaxis=dict(title='Count'),\n",
    "            yaxis=dict(title='Label'),\n",
    "        )\n",
    "        fig.show()\n",
    "    return df\n",
    "\n",
    "def get_label_dumies(rating_labels,labels_to_keep):    \n",
    "    #creating dummy variables for labels\n",
    "    dummy_variables = pd.get_dummies(rating_labels['labels'].apply(lambda x: list(x.keys())).explode())\n",
    "    dummy_variables = dummy_variables[labels_to_keep]  # Filter dummy variables for top genres\n",
    "    dummy_variables = dummy_variables.groupby(dummy_variables.index).sum() # Group by movie ID\n",
    "    return dummy_variables.astype(int)    \n",
    "\n",
    "def filter_labels_df(min_nb_to_keep, \n",
    "                     max_nb_to_keep, \n",
    "                     certainty , \n",
    "                     show_counts, \n",
    "                     top_counts_to_show,\n",
    "                     show_mean_ratings, \n",
    "                     top_mean_ratings_to_show):    \n",
    "    rating_labels = create_labels_df(certainty)\n",
    "    label_count = rating_labels['labels'].apply(lambda x: list(x.keys())).explode().value_counts()\n",
    "    label_count = filter_label_count(label_count ,min_nb_to_keep, max_nb_to_keep, show_counts, top_counts_to_show)\n",
    "    print(\"Number of labels after filtering is \", len(label_count))\n",
    "    label_columns = label_count.index.tolist()\n",
    "    #only leaving labels that are in the filtered zone \n",
    "    rating_labels = rating_labels.drop(rating_labels[rating_labels['labels'].apply(lambda x: not any(label in x.keys() for label in label_columns))].index)\n",
    "    if show_mean_ratings:\n",
    "        mean_ratings = rating_labels.explode('labels').groupby('labels')['averageRating'].mean()\n",
    "        mean_ratings = mean_ratings.sort_values(ascending=False).head(top_mean_ratings_to_show)\n",
    "        fig = go.Figure(data=[go.Bar(x=mean_ratings.values, y=mean_ratings.index, orientation='h')])\n",
    "        fig.update_layout(\n",
    "            title='Label Means',\n",
    "            xaxis=dict(title='Mean'),\n",
    "            yaxis=dict(title='Label'),\n",
    "        )\n",
    "        # Show the plot\n",
    "        fig.show()\n",
    "    return rating_labels, label_columns\n",
    "\n",
    "def get_dummy_labels_with_score(min_nb_to_keep, \n",
    "                                max_nb_to_keep, \n",
    "                                certainty = 0.5, \n",
    "                                show_counts = False, \n",
    "                                top_counts_to_show = 5,\n",
    "                                show_mean_ratings = False,\n",
    "                                top_mean_ratings_to_show = 5):\n",
    "    rating_labels, label_columns = filter_labels_df(min_nb_to_keep, \n",
    "                                                    max_nb_to_keep, \n",
    "                                                    certainty, \n",
    "                                                    show_counts,\n",
    "                                                    top_counts_to_show, \n",
    "                                                    show_mean_ratings, \n",
    "                                                    top_mean_ratings_to_show)\n",
    "    dummy_labels = get_label_dumies(rating_labels, label_columns)\n",
    "    rating_labels = dummy_labels.merge(rating_labels[['averageRating']], left_index=True, right_index= True, how='left').copy()\n",
    "    return rating_labels\n"
   ]
  },
  {
   "cell_type": "code",
   "execution_count": null,
   "metadata": {},
   "outputs": [],
   "source": [
    "dummy_labels = get_dummy_labels_with_score(200, 1000, 0.6, show_counts=False, top_counts_to_show=10, show_mean_ratings=False, top_mean_ratings_to_show=10)"
   ]
  },
  {
   "cell_type": "markdown",
   "metadata": {},
   "source": [
    "fianlly, we perform a linear regression on the data"
   ]
  },
  {
   "cell_type": "code",
   "execution_count": 44,
   "metadata": {},
   "outputs": [
    {
     "name": "stdout",
     "output_type": "stream",
     "text": [
      "mean abssolute losss when doing linear regreession is:  0.7396168887919836\n"
     ]
    }
   ],
   "source": [
    "model, mal = linear_regression(dummy_labels,['averageRating'], rating_labels)\n",
    "print(\"mean abssolute losss when doing linear regreession is: \", mal )\n"
   ]
  },
  {
   "cell_type": "markdown",
   "metadata": {},
   "source": [
    "we then check how will the same samples would compare if we try to predict soleley on their genre data"
   ]
  },
  {
   "cell_type": "code",
   "execution_count": null,
   "metadata": {},
   "outputs": [],
   "source": [
    "metadata = pd.read_csv('movies_metadata_ratings.csv')\n",
    "metadata = metadata.drop_duplicates(subset='wiki_movie_id')\n",
    "metadata = metadata.set_index('wiki_movie_id')"
   ]
  },
  {
   "cell_type": "code",
   "execution_count": 45,
   "metadata": {},
   "outputs": [
    {
     "name": "stdout",
     "output_type": "stream",
     "text": [
      "mean abssolute losss when doing linear regreession on genre column is:  0.6640714699223265\n"
     ]
    }
   ],
   "source": [
    "df = metadata.copy()\n",
    "df = df.loc[rating_labels.index]\n",
    "genre_model , genre_mal = full_genre_process(df, 100)\n",
    "print(\"mean abssolute losss when doing linear regreession on genre column is: \", genre_mal )"
   ]
  },
  {
   "cell_type": "code",
   "execution_count": 46,
   "metadata": {},
   "outputs": [
    {
     "data": {
      "application/vnd.plotly.v1+json": {
       "config": {
        "plotlyServerURL": "https://plot.ly"
       },
       "data": [
        {
         "error_x": {
          "array": [
           0.573
          ],
          "arrayminus": [
           0.316
          ],
          "symmetric": false,
          "type": "data"
         },
         "name": "1970s",
         "orientation": "h",
         "type": "bar",
         "x": [
          0.4447
         ],
         "y": [
          "1970s"
         ]
        },
        {
         "error_x": {
          "array": [
           0.552
          ],
          "arrayminus": [
           0.264
          ],
          "symmetric": false,
          "type": "data"
         },
         "name": "World War II",
         "orientation": "h",
         "type": "bar",
         "x": [
          0.4081
         ],
         "y": [
          "World War II"
         ]
        },
        {
         "error_x": {
          "array": [
           0.518
          ],
          "arrayminus": [
           0.276
          ],
          "symmetric": false,
          "type": "data"
         },
         "name": "1960s",
         "orientation": "h",
         "type": "bar",
         "x": [
          0.3974
         ],
         "y": [
          "1960s"
         ]
        },
        {
         "error_x": {
          "array": [
           0.309
          ],
          "arrayminus": [
           0.125
          ],
          "symmetric": false,
          "type": "data"
         },
         "name": "Musicals",
         "orientation": "h",
         "type": "bar",
         "x": [
          0.2168
         ],
         "y": [
          "Musicals"
         ]
        },
        {
         "error_x": {
          "array": [
           0.283
          ],
          "arrayminus": [
           0.109
          ],
          "symmetric": false,
          "type": "data"
         },
         "name": "Tense",
         "orientation": "h",
         "type": "bar",
         "x": [
          0.1961
         ],
         "y": [
          "Tense"
         ]
        },
        {
         "error_x": {
          "array": [
           -0.193
          ],
          "arrayminus": [
           -0.444
          ],
          "symmetric": false,
          "type": "data"
         },
         "name": "Survival in the Wild",
         "orientation": "h",
         "type": "bar",
         "x": [
          -0.3184
         ],
         "y": [
          "Survival in the Wild"
         ]
        },
        {
         "error_x": {
          "array": [
           -0.104
          ],
          "arrayminus": [
           -0.473
          ],
          "symmetric": false,
          "type": "data"
         },
         "name": "Space Station or Spaceship",
         "orientation": "h",
         "type": "bar",
         "x": [
          -0.2884
         ],
         "y": [
          "Space Station or Spaceship"
         ]
        },
        {
         "error_x": {
          "array": [
           -0.118
          ],
          "arrayminus": [
           -0.365
          ],
          "symmetric": false,
          "type": "data"
         },
         "name": "LGBTQ+ Themes",
         "orientation": "h",
         "type": "bar",
         "x": [
          -0.2411
         ],
         "y": [
          "LGBTQ+ Themes"
         ]
        },
        {
         "error_x": {
          "array": [
           -0.116
          ],
          "arrayminus": [
           -0.292
          ],
          "symmetric": false,
          "type": "data"
         },
         "name": "Suburbia",
         "orientation": "h",
         "type": "bar",
         "x": [
          -0.2036
         ],
         "y": [
          "Suburbia"
         ]
        },
        {
         "error_x": {
          "array": [
           -0.071
          ],
          "arrayminus": [
           -0.324
          ],
          "symmetric": false,
          "type": "data"
         },
         "name": "Underground Exploration",
         "orientation": "h",
         "type": "bar",
         "x": [
          -0.1975
         ],
         "y": [
          "Underground Exploration"
         ]
        }
       ],
       "layout": {
        "barmode": "group",
        "template": {
         "data": {
          "bar": [
           {
            "error_x": {
             "color": "#2a3f5f"
            },
            "error_y": {
             "color": "#2a3f5f"
            },
            "marker": {
             "line": {
              "color": "#E5ECF6",
              "width": 0.5
             },
             "pattern": {
              "fillmode": "overlay",
              "size": 10,
              "solidity": 0.2
             }
            },
            "type": "bar"
           }
          ],
          "barpolar": [
           {
            "marker": {
             "line": {
              "color": "#E5ECF6",
              "width": 0.5
             },
             "pattern": {
              "fillmode": "overlay",
              "size": 10,
              "solidity": 0.2
             }
            },
            "type": "barpolar"
           }
          ],
          "carpet": [
           {
            "aaxis": {
             "endlinecolor": "#2a3f5f",
             "gridcolor": "white",
             "linecolor": "white",
             "minorgridcolor": "white",
             "startlinecolor": "#2a3f5f"
            },
            "baxis": {
             "endlinecolor": "#2a3f5f",
             "gridcolor": "white",
             "linecolor": "white",
             "minorgridcolor": "white",
             "startlinecolor": "#2a3f5f"
            },
            "type": "carpet"
           }
          ],
          "choropleth": [
           {
            "colorbar": {
             "outlinewidth": 0,
             "ticks": ""
            },
            "type": "choropleth"
           }
          ],
          "contour": [
           {
            "colorbar": {
             "outlinewidth": 0,
             "ticks": ""
            },
            "colorscale": [
             [
              0,
              "#0d0887"
             ],
             [
              0.1111111111111111,
              "#46039f"
             ],
             [
              0.2222222222222222,
              "#7201a8"
             ],
             [
              0.3333333333333333,
              "#9c179e"
             ],
             [
              0.4444444444444444,
              "#bd3786"
             ],
             [
              0.5555555555555556,
              "#d8576b"
             ],
             [
              0.6666666666666666,
              "#ed7953"
             ],
             [
              0.7777777777777778,
              "#fb9f3a"
             ],
             [
              0.8888888888888888,
              "#fdca26"
             ],
             [
              1,
              "#f0f921"
             ]
            ],
            "type": "contour"
           }
          ],
          "contourcarpet": [
           {
            "colorbar": {
             "outlinewidth": 0,
             "ticks": ""
            },
            "type": "contourcarpet"
           }
          ],
          "heatmap": [
           {
            "colorbar": {
             "outlinewidth": 0,
             "ticks": ""
            },
            "colorscale": [
             [
              0,
              "#0d0887"
             ],
             [
              0.1111111111111111,
              "#46039f"
             ],
             [
              0.2222222222222222,
              "#7201a8"
             ],
             [
              0.3333333333333333,
              "#9c179e"
             ],
             [
              0.4444444444444444,
              "#bd3786"
             ],
             [
              0.5555555555555556,
              "#d8576b"
             ],
             [
              0.6666666666666666,
              "#ed7953"
             ],
             [
              0.7777777777777778,
              "#fb9f3a"
             ],
             [
              0.8888888888888888,
              "#fdca26"
             ],
             [
              1,
              "#f0f921"
             ]
            ],
            "type": "heatmap"
           }
          ],
          "heatmapgl": [
           {
            "colorbar": {
             "outlinewidth": 0,
             "ticks": ""
            },
            "colorscale": [
             [
              0,
              "#0d0887"
             ],
             [
              0.1111111111111111,
              "#46039f"
             ],
             [
              0.2222222222222222,
              "#7201a8"
             ],
             [
              0.3333333333333333,
              "#9c179e"
             ],
             [
              0.4444444444444444,
              "#bd3786"
             ],
             [
              0.5555555555555556,
              "#d8576b"
             ],
             [
              0.6666666666666666,
              "#ed7953"
             ],
             [
              0.7777777777777778,
              "#fb9f3a"
             ],
             [
              0.8888888888888888,
              "#fdca26"
             ],
             [
              1,
              "#f0f921"
             ]
            ],
            "type": "heatmapgl"
           }
          ],
          "histogram": [
           {
            "marker": {
             "pattern": {
              "fillmode": "overlay",
              "size": 10,
              "solidity": 0.2
             }
            },
            "type": "histogram"
           }
          ],
          "histogram2d": [
           {
            "colorbar": {
             "outlinewidth": 0,
             "ticks": ""
            },
            "colorscale": [
             [
              0,
              "#0d0887"
             ],
             [
              0.1111111111111111,
              "#46039f"
             ],
             [
              0.2222222222222222,
              "#7201a8"
             ],
             [
              0.3333333333333333,
              "#9c179e"
             ],
             [
              0.4444444444444444,
              "#bd3786"
             ],
             [
              0.5555555555555556,
              "#d8576b"
             ],
             [
              0.6666666666666666,
              "#ed7953"
             ],
             [
              0.7777777777777778,
              "#fb9f3a"
             ],
             [
              0.8888888888888888,
              "#fdca26"
             ],
             [
              1,
              "#f0f921"
             ]
            ],
            "type": "histogram2d"
           }
          ],
          "histogram2dcontour": [
           {
            "colorbar": {
             "outlinewidth": 0,
             "ticks": ""
            },
            "colorscale": [
             [
              0,
              "#0d0887"
             ],
             [
              0.1111111111111111,
              "#46039f"
             ],
             [
              0.2222222222222222,
              "#7201a8"
             ],
             [
              0.3333333333333333,
              "#9c179e"
             ],
             [
              0.4444444444444444,
              "#bd3786"
             ],
             [
              0.5555555555555556,
              "#d8576b"
             ],
             [
              0.6666666666666666,
              "#ed7953"
             ],
             [
              0.7777777777777778,
              "#fb9f3a"
             ],
             [
              0.8888888888888888,
              "#fdca26"
             ],
             [
              1,
              "#f0f921"
             ]
            ],
            "type": "histogram2dcontour"
           }
          ],
          "mesh3d": [
           {
            "colorbar": {
             "outlinewidth": 0,
             "ticks": ""
            },
            "type": "mesh3d"
           }
          ],
          "parcoords": [
           {
            "line": {
             "colorbar": {
              "outlinewidth": 0,
              "ticks": ""
             }
            },
            "type": "parcoords"
           }
          ],
          "pie": [
           {
            "automargin": true,
            "type": "pie"
           }
          ],
          "scatter": [
           {
            "fillpattern": {
             "fillmode": "overlay",
             "size": 10,
             "solidity": 0.2
            },
            "type": "scatter"
           }
          ],
          "scatter3d": [
           {
            "line": {
             "colorbar": {
              "outlinewidth": 0,
              "ticks": ""
             }
            },
            "marker": {
             "colorbar": {
              "outlinewidth": 0,
              "ticks": ""
             }
            },
            "type": "scatter3d"
           }
          ],
          "scattercarpet": [
           {
            "marker": {
             "colorbar": {
              "outlinewidth": 0,
              "ticks": ""
             }
            },
            "type": "scattercarpet"
           }
          ],
          "scattergeo": [
           {
            "marker": {
             "colorbar": {
              "outlinewidth": 0,
              "ticks": ""
             }
            },
            "type": "scattergeo"
           }
          ],
          "scattergl": [
           {
            "marker": {
             "colorbar": {
              "outlinewidth": 0,
              "ticks": ""
             }
            },
            "type": "scattergl"
           }
          ],
          "scattermapbox": [
           {
            "marker": {
             "colorbar": {
              "outlinewidth": 0,
              "ticks": ""
             }
            },
            "type": "scattermapbox"
           }
          ],
          "scatterpolar": [
           {
            "marker": {
             "colorbar": {
              "outlinewidth": 0,
              "ticks": ""
             }
            },
            "type": "scatterpolar"
           }
          ],
          "scatterpolargl": [
           {
            "marker": {
             "colorbar": {
              "outlinewidth": 0,
              "ticks": ""
             }
            },
            "type": "scatterpolargl"
           }
          ],
          "scatterternary": [
           {
            "marker": {
             "colorbar": {
              "outlinewidth": 0,
              "ticks": ""
             }
            },
            "type": "scatterternary"
           }
          ],
          "surface": [
           {
            "colorbar": {
             "outlinewidth": 0,
             "ticks": ""
            },
            "colorscale": [
             [
              0,
              "#0d0887"
             ],
             [
              0.1111111111111111,
              "#46039f"
             ],
             [
              0.2222222222222222,
              "#7201a8"
             ],
             [
              0.3333333333333333,
              "#9c179e"
             ],
             [
              0.4444444444444444,
              "#bd3786"
             ],
             [
              0.5555555555555556,
              "#d8576b"
             ],
             [
              0.6666666666666666,
              "#ed7953"
             ],
             [
              0.7777777777777778,
              "#fb9f3a"
             ],
             [
              0.8888888888888888,
              "#fdca26"
             ],
             [
              1,
              "#f0f921"
             ]
            ],
            "type": "surface"
           }
          ],
          "table": [
           {
            "cells": {
             "fill": {
              "color": "#EBF0F8"
             },
             "line": {
              "color": "white"
             }
            },
            "header": {
             "fill": {
              "color": "#C8D4E3"
             },
             "line": {
              "color": "white"
             }
            },
            "type": "table"
           }
          ]
         },
         "layout": {
          "annotationdefaults": {
           "arrowcolor": "#2a3f5f",
           "arrowhead": 0,
           "arrowwidth": 1
          },
          "autotypenumbers": "strict",
          "coloraxis": {
           "colorbar": {
            "outlinewidth": 0,
            "ticks": ""
           }
          },
          "colorscale": {
           "diverging": [
            [
             0,
             "#8e0152"
            ],
            [
             0.1,
             "#c51b7d"
            ],
            [
             0.2,
             "#de77ae"
            ],
            [
             0.3,
             "#f1b6da"
            ],
            [
             0.4,
             "#fde0ef"
            ],
            [
             0.5,
             "#f7f7f7"
            ],
            [
             0.6,
             "#e6f5d0"
            ],
            [
             0.7,
             "#b8e186"
            ],
            [
             0.8,
             "#7fbc41"
            ],
            [
             0.9,
             "#4d9221"
            ],
            [
             1,
             "#276419"
            ]
           ],
           "sequential": [
            [
             0,
             "#0d0887"
            ],
            [
             0.1111111111111111,
             "#46039f"
            ],
            [
             0.2222222222222222,
             "#7201a8"
            ],
            [
             0.3333333333333333,
             "#9c179e"
            ],
            [
             0.4444444444444444,
             "#bd3786"
            ],
            [
             0.5555555555555556,
             "#d8576b"
            ],
            [
             0.6666666666666666,
             "#ed7953"
            ],
            [
             0.7777777777777778,
             "#fb9f3a"
            ],
            [
             0.8888888888888888,
             "#fdca26"
            ],
            [
             1,
             "#f0f921"
            ]
           ],
           "sequentialminus": [
            [
             0,
             "#0d0887"
            ],
            [
             0.1111111111111111,
             "#46039f"
            ],
            [
             0.2222222222222222,
             "#7201a8"
            ],
            [
             0.3333333333333333,
             "#9c179e"
            ],
            [
             0.4444444444444444,
             "#bd3786"
            ],
            [
             0.5555555555555556,
             "#d8576b"
            ],
            [
             0.6666666666666666,
             "#ed7953"
            ],
            [
             0.7777777777777778,
             "#fb9f3a"
            ],
            [
             0.8888888888888888,
             "#fdca26"
            ],
            [
             1,
             "#f0f921"
            ]
           ]
          },
          "colorway": [
           "#636efa",
           "#EF553B",
           "#00cc96",
           "#ab63fa",
           "#FFA15A",
           "#19d3f3",
           "#FF6692",
           "#B6E880",
           "#FF97FF",
           "#FECB52"
          ],
          "font": {
           "color": "#2a3f5f"
          },
          "geo": {
           "bgcolor": "white",
           "lakecolor": "white",
           "landcolor": "#E5ECF6",
           "showlakes": true,
           "showland": true,
           "subunitcolor": "white"
          },
          "hoverlabel": {
           "align": "left"
          },
          "hovermode": "closest",
          "mapbox": {
           "style": "light"
          },
          "paper_bgcolor": "white",
          "plot_bgcolor": "#E5ECF6",
          "polar": {
           "angularaxis": {
            "gridcolor": "white",
            "linecolor": "white",
            "ticks": ""
           },
           "bgcolor": "#E5ECF6",
           "radialaxis": {
            "gridcolor": "white",
            "linecolor": "white",
            "ticks": ""
           }
          },
          "scene": {
           "xaxis": {
            "backgroundcolor": "#E5ECF6",
            "gridcolor": "white",
            "gridwidth": 2,
            "linecolor": "white",
            "showbackground": true,
            "ticks": "",
            "zerolinecolor": "white"
           },
           "yaxis": {
            "backgroundcolor": "#E5ECF6",
            "gridcolor": "white",
            "gridwidth": 2,
            "linecolor": "white",
            "showbackground": true,
            "ticks": "",
            "zerolinecolor": "white"
           },
           "zaxis": {
            "backgroundcolor": "#E5ECF6",
            "gridcolor": "white",
            "gridwidth": 2,
            "linecolor": "white",
            "showbackground": true,
            "ticks": "",
            "zerolinecolor": "white"
           }
          },
          "shapedefaults": {
           "line": {
            "color": "#2a3f5f"
           }
          },
          "ternary": {
           "aaxis": {
            "gridcolor": "white",
            "linecolor": "white",
            "ticks": ""
           },
           "baxis": {
            "gridcolor": "white",
            "linecolor": "white",
            "ticks": ""
           },
           "bgcolor": "#E5ECF6",
           "caxis": {
            "gridcolor": "white",
            "linecolor": "white",
            "ticks": ""
           }
          },
          "title": {
           "x": 0.05
          },
          "xaxis": {
           "automargin": true,
           "gridcolor": "white",
           "linecolor": "white",
           "ticks": "",
           "title": {
            "standoff": 15
           },
           "zerolinecolor": "white",
           "zerolinewidth": 2
          },
          "yaxis": {
           "automargin": true,
           "gridcolor": "white",
           "linecolor": "white",
           "ticks": "",
           "title": {
            "standoff": 15
           },
           "zerolinecolor": "white",
           "zerolinewidth": 2
          }
         }
        },
        "title": {
         "text": "Coefficients with Confidence Intervals (95%)"
        },
        "xaxis": {
         "title": {
          "text": "Coefficient Value"
         }
        },
        "yaxis": {
         "title": {
          "text": "Label"
         }
        }
       }
      }
     },
     "metadata": {},
     "output_type": "display_data"
    }
   ],
   "source": [
    "show_model(model)"
   ]
  },
  {
   "cell_type": "markdown",
   "metadata": {},
   "source": [
    "As we can see, the confidence intervals are larger than in the case of genres and the most influentual labels are those that correlate the modst with a specific genre, however this is more information we can work with and it seems to be menaingful in one way or another. Now, it would be interesting to combine thhe knowledge we have on genres and labels together in order to get a more specialised model."
   ]
  },
  {
   "cell_type": "code",
   "execution_count": 47,
   "metadata": {},
   "outputs": [
    {
     "name": "stdout",
     "output_type": "stream",
     "text": [
      "mean abssolute losss when doing linear regreession on genre combined with labels is:  0.6239053872665239\n"
     ]
    }
   ],
   "source": [
    "metadata = pd.read_csv('movies_metadata_ratings.csv')\n",
    "metadata = metadata.drop_duplicates(subset='wiki_movie_id')\n",
    "metadata = metadata.set_index('wiki_movie_id')\n",
    "\n",
    "df = metadata.copy()\n",
    "df = df.loc[rating_labels.index]\n",
    "df = get_genre_dummies(df, 1000)\n",
    "df = df.merge(rating_labels, left_index=True, right_index=True, how='left')\n",
    "combined_model, combined_mae = linear_regression(df.columns[:-1],['averageRating'], df)\n",
    "print(\"mean abssolute losss when doing linear regreession on genre combined with labels is: \", combined_mae )"
   ]
  },
  {
   "cell_type": "code",
   "execution_count": 48,
   "metadata": {},
   "outputs": [
    {
     "data": {
      "text/html": [
       "<div>\n",
       "<style scoped>\n",
       "    .dataframe tbody tr th:only-of-type {\n",
       "        vertical-align: middle;\n",
       "    }\n",
       "\n",
       "    .dataframe tbody tr th {\n",
       "        vertical-align: top;\n",
       "    }\n",
       "\n",
       "    .dataframe thead th {\n",
       "        text-align: right;\n",
       "    }\n",
       "</style>\n",
       "<table border=\"1\" class=\"dataframe\">\n",
       "  <thead>\n",
       "    <tr style=\"text-align: right;\">\n",
       "      <th></th>\n",
       "      <th>Indie</th>\n",
       "      <th>World cinema</th>\n",
       "      <th>Action</th>\n",
       "      <th>Romance Film</th>\n",
       "      <th>Thriller</th>\n",
       "      <th>Comedy_x</th>\n",
       "      <th>Drama</th>\n",
       "      <th>Voyage and Return</th>\n",
       "      <th>Tense</th>\n",
       "      <th>Suburbia</th>\n",
       "      <th>...</th>\n",
       "      <th>Social Injustice</th>\n",
       "      <th>Betrayal</th>\n",
       "      <th>World War II</th>\n",
       "      <th>Space Exploration</th>\n",
       "      <th>Loss and Grief</th>\n",
       "      <th>Rebirth</th>\n",
       "      <th>Mentorship</th>\n",
       "      <th>Small Town</th>\n",
       "      <th>Whimsical</th>\n",
       "      <th>averageRating</th>\n",
       "    </tr>\n",
       "    <tr>\n",
       "      <th>wiki_movie_id</th>\n",
       "      <th></th>\n",
       "      <th></th>\n",
       "      <th></th>\n",
       "      <th></th>\n",
       "      <th></th>\n",
       "      <th></th>\n",
       "      <th></th>\n",
       "      <th></th>\n",
       "      <th></th>\n",
       "      <th></th>\n",
       "      <th></th>\n",
       "      <th></th>\n",
       "      <th></th>\n",
       "      <th></th>\n",
       "      <th></th>\n",
       "      <th></th>\n",
       "      <th></th>\n",
       "      <th></th>\n",
       "      <th></th>\n",
       "      <th></th>\n",
       "      <th></th>\n",
       "    </tr>\n",
       "  </thead>\n",
       "  <tbody>\n",
       "    <tr>\n",
       "      <th>417744</th>\n",
       "      <td>0</td>\n",
       "      <td>0</td>\n",
       "      <td>0</td>\n",
       "      <td>0</td>\n",
       "      <td>0</td>\n",
       "      <td>1</td>\n",
       "      <td>0</td>\n",
       "      <td>0</td>\n",
       "      <td>0</td>\n",
       "      <td>0</td>\n",
       "      <td>...</td>\n",
       "      <td>0</td>\n",
       "      <td>0</td>\n",
       "      <td>0</td>\n",
       "      <td>0</td>\n",
       "      <td>0</td>\n",
       "      <td>0</td>\n",
       "      <td>0</td>\n",
       "      <td>0</td>\n",
       "      <td>0</td>\n",
       "      <td>7.5</td>\n",
       "    </tr>\n",
       "  </tbody>\n",
       "</table>\n",
       "<p>1 rows × 49 columns</p>\n",
       "</div>"
      ],
      "text/plain": [
       "               Indie  World cinema  Action  Romance Film  Thriller  Comedy_x  \\\n",
       "wiki_movie_id                                                                  \n",
       "417744             0             0       0             0         0         1   \n",
       "\n",
       "               Drama  Voyage and Return  Tense  Suburbia  ...  \\\n",
       "wiki_movie_id                                             ...   \n",
       "417744             0                  0      0         0  ...   \n",
       "\n",
       "               Social Injustice  Betrayal  World War II  Space Exploration  \\\n",
       "wiki_movie_id                                                                \n",
       "417744                        0         0             0                  0   \n",
       "\n",
       "               Loss and Grief  Rebirth  Mentorship  Small Town  Whimsical  \\\n",
       "wiki_movie_id                                                               \n",
       "417744                      0        0           0           0          0   \n",
       "\n",
       "               averageRating  \n",
       "wiki_movie_id                 \n",
       "417744                   7.5  \n",
       "\n",
       "[1 rows x 49 columns]"
      ]
     },
     "execution_count": 48,
     "metadata": {},
     "output_type": "execute_result"
    }
   ],
   "source": [
    "df "
   ]
  },
  {
   "cell_type": "markdown",
   "metadata": {},
   "source": [
    "Lower, we see two graphics, showing that the loss goes down together with the additionnal labels\n",
    "- imma add more eplanations if we find this interesting"
   ]
  },
  {
   "cell_type": "code",
   "execution_count": 21,
   "metadata": {},
   "outputs": [
    {
     "data": {
      "image/png": "[encoded data removed]",
      "text/plain": [
       "<Figure size 432x288 with 1 Axes>"
      ]
     },
     "metadata": {
      "needs_background": "light"
     },
     "output_type": "display_data"
    }
   ],
   "source": [
    "df = pd.read_csv('movies_metadata_ratings.csv')\n",
    "df = df.drop_duplicates(subset='wiki_movie_id')\n",
    "df = df.set_index('wiki_movie_id')\n",
    "\n",
    "df_filtered = df[df['movie_release_year'] > 1980]\n",
    "df_filtered = df_filtered[df_filtered['numVotes'] > 1000]\n",
    "\n",
    "threshes = np.linspace(10, 2000, 100)\n",
    "losses = []\n",
    "for thresh in threshes:\n",
    "    model, loss = full_genre_process(df_filtered, thresh)\n",
    "    losses.append(loss)\n",
    "\n",
    "plt.plot(threshes, losses)    \n",
    "plt.xlabel('Threshold')\n",
    "plt.ylabel('Loss')\n",
    "plt.title('Loss vs Threshold')\n",
    "plt.show()\n"
   ]
  },
  {
   "cell_type": "markdown",
   "metadata": {},
   "source": [
    "# we mananage to gain around 0.1 in mean absolute error"
   ]
  },
  {
   "cell_type": "code",
   "execution_count": 22,
   "metadata": {},
   "outputs": [
    {
     "data": {
      "text/plain": [
       "[<matplotlib.lines.Line2D at 0x7fee81f75130>]"
      ]
     },
     "execution_count": 22,
     "metadata": {},
     "output_type": "execute_result"
    },
    {
     "data": {
      "image/png": "[encoded data removed]",
      "text/plain": [
       "<Figure size 432x288 with 1 Axes>"
      ]
     },
     "metadata": {
      "needs_background": "light"
     },
     "output_type": "display_data"
    }
   ],
   "source": [
    "df = pd.read_csv('movies_metadata_ratings.csv')\n",
    "df = df.drop_duplicates(subset='wiki_movie_id')\n",
    "df = df.set_index('wiki_movie_id')\n",
    "df = df.loc[rating_labels.index].copy()\n",
    "losses = []\n",
    "\n",
    "threshes = np.linspace(10, 500, 100)\n",
    "for thresh in threshes:\n",
    "    df_filtered = get_genre_dummies(df, thresh)\n",
    "    df_filtered = df_filtered.merge(rating_labels, left_index=True, right_index=True, how='left')\n",
    "    combined_model, combined_mae = linear_regression(df_filtered.columns[:-1],['averageRating'], df_filtered)\n",
    "    losses.append(combined_mae)\n",
    "\n",
    "plt.plot(threshes, losses)\n"
   ]
  },
  {
   "cell_type": "markdown",
   "metadata": {},
   "source": [
    "# Experemental part to leave out"
   ]
  },
  {
   "cell_type": "code",
   "execution_count": 23,
   "metadata": {},
   "outputs": [],
   "source": [
    "#furhter filtering out labels and all for better results\n",
    "def get_label_dumies(min_occurrences,max_occurences, threshold=0.5):\n",
    "    label_count = get_labels_count(threshold)\n",
    "    label_count = label_count[label_count > min_occurrences]\n",
    "    label_count = label_count[label_count < max_occurences]\n",
    "    rating_labels = get_labels_rating_df(threshold)\n",
    "    \n",
    "    label_columns = label_count.index.tolist()\n",
    "    #only leaving labels that are in the filtered zone \n",
    "    rating_labels = rating_labels.drop(rating_labels[rating_labels['labels'].apply(lambda x: not any(label in x.keys() for label in label_columns))].index)\n",
    "\n",
    "    #creating dummy variables for labels\n",
    "    dummy_variables = pd.get_dummies(rating_labels['labels'].apply(lambda x: list(x.keys())).explode())\n",
    "    dummy_variables = dummy_variables[label_columns]  # Filter dummy variables for top genres\n",
    "    dummy_variables = dummy_variables.groupby(dummy_variables.index).sum()  # Group by movie ID\n",
    "    dummy_variables = dummy_variables.astype(int)\n",
    "\n",
    "    rating_labels = dummy_variables.merge(rating_labels[['averageRating']], left_index=True, right_index= True, how='left').copy()\n",
    "    return rating_labels"
   ]
  },
  {
   "cell_type": "code",
   "execution_count": 24,
   "metadata": {},
   "outputs": [],
   "source": [
    "#this didn't really help either\n",
    "\n",
    "def random_forest_mae(X_train, X_test, y_train, y_test, n_estimators=100):\n",
    "    # Create the Random Forest model\n",
    "    rf_model = RandomForestRegressor(n_estimators=100, random_state=42)  # You can adjust hyperparameters like n_estimators\n",
    "    # Train the model\n",
    "    rf_model.fit(X_train, y_train)\n",
    "    y_pred = rf_model.predict(X_test)\n",
    "    mae = (mean_absolute_error(y_test, y_pred))\n",
    "    r2 = r2_score(y_test, y_pred)\n",
    "    return mae, r2\n",
    "\n",
    "def gradient_boosting_mae(X,y):\n",
    "    # Create the Gradient Boosting model\n",
    "    gb_model = GradientBoostingRegressor(random_state=42)\n",
    "    clf_1_results = cross_validate(gb_model, X, y, cv=3, scoring=('neg_mean_absolute_error'))\n",
    "    return np.abs(clf_1_results['test_score'].mean())"
   ]
  }
 ],
 "metadata": {
  "kernelspec": {
   "display_name": "Python 3",
   "language": "python",
   "name": "python3"
  },
  "language_info": {
   "codemirror_mode": {
    "name": "ipython",
    "version": 3
   },
   "file_extension": ".py",
   "mimetype": "text/x-python",
   "name": "python",
   "nbconvert_exporter": "python",
   "pygments_lexer": "ipython3",
   "version": "3.9.2"
  }
 },
 "nbformat": 4,
 "nbformat_minor": 2
}
